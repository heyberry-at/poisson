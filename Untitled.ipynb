{
 "cells": [
  {
   "cell_type": "code",
   "execution_count": 1,
   "id": "68f28a18-2f5c-4d6a-8e25-6892787e40c8",
   "metadata": {},
   "outputs": [],
   "source": [
    "import sympy as sp"
   ]
  },
  {
   "cell_type": "code",
   "execution_count": 2,
   "id": "20f21d0f-0676-4817-a839-df09b8d564d7",
   "metadata": {},
   "outputs": [],
   "source": [
    "x1, x2 = sp.symbols('x_1 x_2')"
   ]
  },
  {
   "cell_type": "code",
   "execution_count": 3,
   "id": "538933e2-de43-421b-98c3-7d1d8ae9a4e4",
   "metadata": {},
   "outputs": [],
   "source": [
    "N1 = (1-x1)*(1-x2)\n",
    "N2 = x1*(1-x2)"
   ]
  },
  {
   "cell_type": "code",
   "execution_count": 4,
   "id": "4a3b7e48-091a-4ae4-9201-6ee3ce8550fa",
   "metadata": {},
   "outputs": [
    {
     "data": {
      "text/latex": [
       "$\\displaystyle - x_{1}^{2} x_{2}^{2} + 2 x_{1}^{2} x_{2} - x_{1}^{2} + x_{1} x_{2}^{2} - 2 x_{1} x_{2} + x_{1}$"
      ],
      "text/plain": [
       "-x_1**2*x_2**2 + 2*x_1**2*x_2 - x_1**2 + x_1*x_2**2 - 2*x_1*x_2 + x_1"
      ]
     },
     "execution_count": 4,
     "metadata": {},
     "output_type": "execute_result"
    }
   ],
   "source": [
    "f = N1*N2\n",
    "f.expand()"
   ]
  },
  {
   "cell_type": "code",
   "execution_count": 5,
   "id": "ac5da901-515a-4afa-9a7f-b8043b56304c",
   "metadata": {},
   "outputs": [
    {
     "data": {
      "text/latex": [
       "$\\displaystyle - \\frac{x_{1}^{2} x_{2}^{3}}{3} + x_{1}^{2} x_{2}^{2} - x_{1}^{2} x_{2} + \\frac{x_{1} x_{2}^{3}}{3} - x_{1} x_{2}^{2} + x_{1} x_{2}$"
      ],
      "text/plain": [
       "-x_1**2*x_2**3/3 + x_1**2*x_2**2 - x_1**2*x_2 + x_1*x_2**3/3 - x_1*x_2**2 + x_1*x_2"
      ]
     },
     "execution_count": 5,
     "metadata": {},
     "output_type": "execute_result"
    }
   ],
   "source": [
    "i1 = sp.integrate(f,x2)\n",
    "i1.expand()"
   ]
  },
  {
   "cell_type": "code",
   "execution_count": 6,
   "id": "d9e10baa-7b8c-4356-a664-437996aae269",
   "metadata": {},
   "outputs": [
    {
     "data": {
      "text/latex": [
       "$\\displaystyle - \\frac{2 x_{1}^{2}}{3} + \\frac{2 x_{1}}{3}$"
      ],
      "text/plain": [
       "-2*x_1**2/3 + 2*x_1/3"
      ]
     },
     "execution_count": 6,
     "metadata": {},
     "output_type": "execute_result"
    }
   ],
   "source": [
    "i1 = i1.subs(x2,2)\n",
    "i1"
   ]
  },
  {
   "cell_type": "code",
   "execution_count": 7,
   "id": "5ebd6b65-a8f3-4fa0-9fec-3d8943116b21",
   "metadata": {},
   "outputs": [
    {
     "data": {
      "text/latex": [
       "$\\displaystyle - \\frac{2 x_{1}^{3}}{9} + \\frac{x_{1}^{2}}{3}$"
      ],
      "text/plain": [
       "-2*x_1**3/9 + x_1**2/3"
      ]
     },
     "execution_count": 7,
     "metadata": {},
     "output_type": "execute_result"
    }
   ],
   "source": [
    "i2 = sp.integrate(i1,x1)\n",
    "i2"
   ]
  },
  {
   "cell_type": "code",
   "execution_count": 8,
   "id": "f037eac3-ad31-4182-8888-5a8a7d47bdc9",
   "metadata": {},
   "outputs": [
    {
     "data": {
      "text/latex": [
       "$\\displaystyle - \\frac{4}{9}$"
      ],
      "text/plain": [
       "-4/9"
      ]
     },
     "execution_count": 8,
     "metadata": {},
     "output_type": "execute_result"
    }
   ],
   "source": [
    "i2 = i2.subs(x1,2)\n",
    "i2"
   ]
  },
  {
   "cell_type": "code",
   "execution_count": 9,
   "id": "3eeb8539-6ad3-4f5f-bfbd-d79280de70f4",
   "metadata": {},
   "outputs": [
    {
     "data": {
      "text/latex": [
       "$\\displaystyle 1 - \\frac{\\sqrt{3}}{3}$"
      ],
      "text/plain": [
       "1 - sqrt(3)/3"
      ]
     },
     "execution_count": 9,
     "metadata": {},
     "output_type": "execute_result"
    }
   ],
   "source": [
    "a = 1-1/sp.sqrt(3)\n",
    "a"
   ]
  },
  {
   "cell_type": "code",
   "execution_count": 10,
   "id": "050c0d6d-bc9f-4495-9f30-3e25992a9bdf",
   "metadata": {},
   "outputs": [
    {
     "data": {
      "text/latex": [
       "$\\displaystyle \\frac{4}{3} - \\frac{2 \\sqrt{3}}{3}$"
      ],
      "text/plain": [
       "4/3 - 2*sqrt(3)/3"
      ]
     },
     "execution_count": 10,
     "metadata": {},
     "output_type": "execute_result"
    }
   ],
   "source": [
    "(a**2).expand()"
   ]
  },
  {
   "cell_type": "code",
   "execution_count": 11,
   "id": "02658c79-8b34-4791-8691-5caaf97e3b7c",
   "metadata": {},
   "outputs": [
    {
     "data": {
      "text/latex": [
       "$\\displaystyle \\frac{28}{9} - \\frac{16 \\sqrt{3}}{9}$"
      ],
      "text/plain": [
       "28/9 - 16*sqrt(3)/9"
      ]
     },
     "execution_count": 11,
     "metadata": {},
     "output_type": "execute_result"
    }
   ],
   "source": [
    "(a**4).expand()"
   ]
  },
  {
   "cell_type": "code",
   "execution_count": null,
   "id": "5610cc56-01ae-4080-80ea-3e5a851826f4",
   "metadata": {},
   "outputs": [],
   "source": []
  }
 ],
 "metadata": {
  "kernelspec": {
   "display_name": "Python 3 (ipykernel)",
   "language": "python",
   "name": "python3"
  },
  "language_info": {
   "codemirror_mode": {
    "name": "ipython",
    "version": 3
   },
   "file_extension": ".py",
   "mimetype": "text/x-python",
   "name": "python",
   "nbconvert_exporter": "python",
   "pygments_lexer": "ipython3",
   "version": "3.12.3"
  }
 },
 "nbformat": 4,
 "nbformat_minor": 5
}
