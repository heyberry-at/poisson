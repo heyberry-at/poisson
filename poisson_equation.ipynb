{
 "cells": [
  {
   "cell_type": "code",
   "execution_count": 1,
   "id": "a0948167-809b-4001-87f3-498ee3e79ccb",
   "metadata": {
    "editable": true,
    "jupyter": {
     "source_hidden": true
    },
    "slideshow": {
     "slide_type": ""
    },
    "tags": []
   },
   "outputs": [],
   "source": [
    "%matplotlib ipympl\n",
    "\n",
    "import sympy as sp\n",
    "import matplotlib.tri as tri\n",
    "import matplotlib.pyplot as plt\n",
    "import numpy as np\n",
    "from IPython.display import Math, display\n",
    "\n",
    "def output(dictionary, n, lhs, s='K'):\n",
    "    for i in range(1,n+1):\n",
    "        i1_string = rf'{s}={i}:\\qquad '\n",
    "        i2_string = rf'{lhs}={sp.latex(dictionary[i])}'.replace(s,str(i))\n",
    "        display(Math(i1_string+i2_string))\n",
    "\n",
    "def output_sp(element, lhs):\n",
    "    display(Math(rf'{lhs}={sp.latex(element)}'))\n",
    "\n",
    "xi1, xi2, B, H, x1, x2 = sp.symbols('xi_1 xi_2 B H x_1 x_2')"
   ]
  },
  {
   "cell_type": "markdown",
   "id": "009ef3b8-5135-4a6a-9d5a-6f66c0a6a0c5",
   "metadata": {},
   "source": [
    "# **Aufgabe 12** Poisson-Gleichung, Teil 2: Finite Elemente Modellierung\n",
    "Hier können die Anzahl der Elemente in $x_1$- und $x_2$-Richtung, sowie die Abmessungen $B$ und $H$ als auch der (konstante) Funktionswert $u_0(\\mathbf{x})$ am Dirichlet-Rand $\\partial\\hat{\\Omega}_D$ verändert werden. Des Weiteren können beliebige Funktionen für die Quellfunktion $f(\\mathbf{x})$ und die Funktion $\\overline{g}(x_2)$ angegeben werden."
   ]
  },
  {
   "cell_type": "code",
   "execution_count": 2,
   "id": "e1c603e1-3193-402c-8f58-c12c0f58983d",
   "metadata": {
    "editable": true,
    "jupyter": {
     "source_hidden": true
    },
    "slideshow": {
     "slide_type": ""
    },
    "tags": []
   },
   "outputs": [],
   "source": [
    "n_elem_x = 2              # Anzahl der Elemente in x_1-Richtung\n",
    "n_elem_y = 2              # Anzahl der Elemente in x_2-Richtung\n",
    "B_value = 3               # Abmessung B\n",
    "H_value = 2               # Abmessung H\n",
    "u0_value = 0              # Konstanter Funktionswert am Dirichlet-Rand\n",
    "\n",
    "f_symb = x1**2+x2**2      # Quellfunktion f(x1, x2)\n",
    "g_symb = x2               # Funktion am Neumann-Rand g(x2)\n",
    "\n",
    "supress_output = False    # Die Ausgabe der jeweiligen Zellen unterdrücken (True, False)"
   ]
  },
  {
   "cell_type": "markdown",
   "id": "2fb4c4fe-3639-49d4-9cb9-e73d43fa2426",
   "metadata": {
    "editable": true,
    "slideshow": {
     "slide_type": ""
    },
    "tags": []
   },
   "source": [
    "Ergänzend seien hier nocheinmal das Definitionsgebiet $\\hat{\\Omega}$ mit Dirichlet- und Neumann-Rand $\\partial\\hat{\\Omega}_D$ bzw. $\\partial\\hat{\\Omega}_N$ und die Nummerierung der Elemente $K$ und der globalen Freiheitsgrade $I$ dargestellt. Ebenfalls\n",
    "\n",
    "<img src=\"pics/domain.png\" width=500>"
   ]
  },
  {
   "cell_type": "code",
   "execution_count": 3,
   "id": "3e24afa6-ddc7-4b37-86ff-bb1c298712da",
   "metadata": {
    "editable": true,
    "jupyter": {
     "source_hidden": true
    },
    "slideshow": {
     "slide_type": ""
    },
    "tags": []
   },
   "outputs": [],
   "source": [
    "only_dirichlet = False\n",
    "\n",
    "order = 'bilinear' # Ordnung der Elemente\n",
    "dim = 2 # Dimension\n",
    "n_elem = int(n_elem_x*n_elem_y) # Anazhl der Elemente\n",
    "n_dof = int((n_elem_x+1)*(n_elem_y+1)) # Anzahl der globalen Freiheitsgrade\n",
    "n_dof_loc = 4 if order == 'bilinear' else None # Anzahl der Elementfreiheitsgrade\n",
    "\n",
    "# Symbolische Variablen der globalen Freiheitsgrade\n",
    "u_hat_symb = sp.symbols([rf'\\hat{{u}}_{i}' for i in range(1,n_dof+1)])\n",
    "u_hat_symb = sp.Matrix(u_hat_symb)\n",
    "\n",
    "# Symbolische Variablen der globalen Ansatzfunktionen\n",
    "u_I_symb = sp.symbols([rf'u^{{{i}}}(\\mathbf{{x}})' for i in range(1,n_dof+1)])\n",
    "u_I_symb = sp.Matrix(u_I_symb)\n",
    "\n",
    "# Symbolische Variablen der lokalen Freiheitsgrade\n",
    "NK_symb = sp.symbols([rf'N^{{{K}\\,{d}}}(\\mathbf{{x}})' for K in range(1,n_elem+1) for d in range(1,n_dof_loc+1)])\n",
    "NK_symb = sp.Matrix(NK_symb)"
   ]
  },
  {
   "cell_type": "markdown",
   "id": "af0e3ad5-0530-4f09-981a-e177e7e03939",
   "metadata": {},
   "source": [
    "## Diskretes Rechengebiet (Mesh)\n",
    "\n",
    "Als erstes werden hier alle nötigen Informationen über das diskrete Rechengebiet (Mesh), welche für die anschließende Berechnung der Elementsteifigkeitsmatrizen, der Elementkraftvektoren, etc. benötigt werden, ermittelt.\n",
    "\n",
    "Wichtig sind hierbei die Knotenpunktkoordinaten $\\mathbf{x}^{K,d}$ der $K$ Elemente.\n",
    "\n",
    "### Knotenpunktkoordinaten"
   ]
  },
  {
   "cell_type": "code",
   "execution_count": 4,
   "id": "e448bd08-5ade-4d17-92d2-7867ebfc6a2a",
   "metadata": {
    "jupyter": {
     "source_hidden": true
    }
   },
   "outputs": [
    {
     "data": {
      "text/latex": [
       "$\\displaystyle K=1:\\qquad \\mathbf{x}^{1,d}=\\left[\\begin{matrix}0 & 0\\\\\\frac{3}{2} & 0\\\\\\frac{3}{2} & 1\\\\0 & 1\\end{matrix}\\right]$"
      ],
      "text/plain": [
       "<IPython.core.display.Math object>"
      ]
     },
     "metadata": {},
     "output_type": "display_data"
    },
    {
     "data": {
      "text/latex": [
       "$\\displaystyle K=2:\\qquad \\mathbf{x}^{2,d}=\\left[\\begin{matrix}\\frac{3}{2} & 0\\\\3 & 0\\\\3 & 1\\\\\\frac{3}{2} & 1\\end{matrix}\\right]$"
      ],
      "text/plain": [
       "<IPython.core.display.Math object>"
      ]
     },
     "metadata": {},
     "output_type": "display_data"
    },
    {
     "data": {
      "text/latex": [
       "$\\displaystyle K=3:\\qquad \\mathbf{x}^{3,d}=\\left[\\begin{matrix}0 & 1\\\\\\frac{3}{2} & 1\\\\\\frac{3}{2} & 2\\\\0 & 2\\end{matrix}\\right]$"
      ],
      "text/plain": [
       "<IPython.core.display.Math object>"
      ]
     },
     "metadata": {},
     "output_type": "display_data"
    },
    {
     "data": {
      "text/latex": [
       "$\\displaystyle K=4:\\qquad \\mathbf{x}^{4,d}=\\left[\\begin{matrix}\\frac{3}{2} & 1\\\\3 & 1\\\\3 & 2\\\\\\frac{3}{2} & 2\\end{matrix}\\right]$"
      ],
      "text/plain": [
       "<IPython.core.display.Math object>"
      ]
     },
     "metadata": {},
     "output_type": "display_data"
    }
   ],
   "source": [
    "# Koordinaten der Knotenpunkte\n",
    "x = sp.Matrix([[i*B_value/n_elem_x, j*H_value/n_elem_y] for j in range(n_elem_y+1) for i in range(n_elem_x+1)])\n",
    "\n",
    "# Elemente mit Freiheitsgrade\n",
    "K_dof = {}\n",
    "\n",
    "# Elemente mit Knotenpunkten\n",
    "xK = {}\n",
    "for j in range(n_elem_y):\n",
    "    for i in range(n_elem_x):\n",
    "        \n",
    "        K = j*n_elem_x+i+1\n",
    "\n",
    "        # Fuege globale Freiheitsgrade zu den Elementen hinzu\n",
    "        d1 = j*(n_elem_x+1)+i+1      # links unten\n",
    "        d2 = d1 + 1                  # rechts unten\n",
    "        d3 = d1 + (n_elem_x+1) + 1   # rechts oben\n",
    "        d4 = d1 + (n_elem_x+1)       # links oben\n",
    "\n",
    "        K_dof[K] = [d1, d2, d3, d4]\n",
    "        \n",
    "        # Ermittle Knotenpunktkoordinaten der Elemente\n",
    "        xK[K] = sp.zeros(n_dof_loc, dim)\n",
    "        \n",
    "        xK[K][0,0] = i*sp.Rational(B_value,n_elem_x)\n",
    "        xK[K][1,0] = (i+1)*sp.Rational(B_value,n_elem_x)\n",
    "        xK[K][2,0] = (i+1)*sp.Rational(B_value,n_elem_x)\n",
    "        xK[K][3,0] = i*sp.Rational(B_value,n_elem_x)\n",
    "\n",
    "        xK[K][0,1] = j*sp.Rational(H_value,n_elem_y)\n",
    "        xK[K][1,1] = j*sp.Rational(H_value,n_elem_y)\n",
    "        xK[K][2,1] = (j+1)*sp.Rational(H_value,n_elem_y)\n",
    "        xK[K][3,1] = (j+1)*sp.Rational(H_value,n_elem_y)\n",
    "    \n",
    "if not supress_output: output(xK, n_elem, r'\\mathbf{x}^{K,d}')"
   ]
  },
  {
   "cell_type": "markdown",
   "id": "df3fcece-acb4-48a4-b17c-2866771ff5f8",
   "metadata": {
    "editable": true,
    "slideshow": {
     "slide_type": ""
    },
    "tags": []
   },
   "source": [
    "## Neumann Rand\n",
    "\n",
    "Am Neumann-Rand \"wirkt\" die Funktion $\\overline{g}(\\mathbf{x}),\\mathbf{x}\\in\\partial\\hat{\\Omega}_N$. Diese Funktion muss anschließend bei der Berechnung der Elementkraftvektoren an jenen Elementen $K$ welche diesen Rand beinhalten berücksichtigt werden. Da die Integration sämtlicher Integrale am Einheitselement durchgeführt werden, müssen auch die Rand(linien)elemente ensprechend transformiert werden."
   ]
  },
  {
   "cell_type": "markdown",
   "id": "c485eddf-6c87-4be9-9fe9-414757e73341",
   "metadata": {},
   "source": [
    "### Inverse Transformation\n",
    "An dieser Stelle werden die inversen Transformationen $(T^F_\\Gamma)^{-1}(\\xi_2):\\Gamma\\rightarrow\\Gamma^F$ der Rand(linien)elemente $F$ entlang des Neumann-Randes ermittelt. Diese lassen sich einfach durch die eindimensionale affine Transformation\n",
    "$$\n",
    "    (T^F_\\Gamma)^{-1}(\\xi_2)=x_2=x_{2,0}+(x_{2,1}-x_{2,0})\\xi_2\n",
    "$$\n",
    "ermitteln."
   ]
  },
  {
   "cell_type": "code",
   "execution_count": 5,
   "id": "a5fa7a53-5feb-4e0e-b813-beb5a983c07e",
   "metadata": {
    "jupyter": {
     "source_hidden": true
    }
   },
   "outputs": [
    {
     "data": {
      "text/latex": [
       "$\\displaystyle F=1:\\qquad (T^{1}_\\Gamma)^{-1}(\\xi_2)=1.0 \\xi_{2}$"
      ],
      "text/plain": [
       "<IPython.core.display.Math object>"
      ]
     },
     "metadata": {},
     "output_type": "display_data"
    },
    {
     "data": {
      "text/latex": [
       "$\\displaystyle F=2:\\qquad (T^{2}_\\Gamma)^{-1}(\\xi_2)=1.0 \\xi_{2} + 1.0$"
      ],
      "text/plain": [
       "<IPython.core.display.Math object>"
      ]
     },
     "metadata": {},
     "output_type": "display_data"
    }
   ],
   "source": [
    "neu_right_T = np.arange((n_elem_x+1),(n_elem_x+1)*(n_elem_y+1)+1,n_elem_x+1)\n",
    "F_dof = {}\n",
    "\n",
    "TFm1_Gamma = {}\n",
    "TF_Gamma = {}\n",
    "for F in range(1, n_elem_y+1):\n",
    "    \n",
    "    dof0 = neu_right_T[F-1]\n",
    "    dof1 = neu_right_T[F-1]+n_elem_y\n",
    "\n",
    "    if F == 1:\n",
    "        F_dof[F] = [dof1]\n",
    "    elif F == n_elem_y:\n",
    "        F_dof[F] = [dof0]\n",
    "    else:\n",
    "        F_dof[F] = [dof0, dof1]\n",
    "    \n",
    "    x20 = x[dof0-1,1]\n",
    "    x21 = x[dof1-1,1]\n",
    "    \n",
    "    TFm1_Gamma[F] = x20+(x21-x20)*xi2\n",
    "    TF_Gamma[F] = (x2-x20)/(x21-x20)\n",
    "\n",
    "neu_right = neu_right_T[1:-1]\n",
    "\n",
    "if not supress_output: output(TFm1_Gamma, n_elem_y, r'(T^{F}_\\Gamma)^{-1}(\\xi_2)', s='F')"
   ]
  },
  {
   "cell_type": "markdown",
   "id": "58854e37-be8e-49be-a6b5-f2043f138e91",
   "metadata": {},
   "source": [
    "### Transformation\n",
    "Aus der obigen inversen Transformation $(T^F_\\Gamma)^{-1}(\\xi_2):\\Gamma\\rightarrow\\Gamma^F$ lässt sich leicht die Transformation $T^F_\\Gamma(x_2):\\Gamma^F\\rightarrow\\Gamma$ für das jeweilige Randelement $F$ durch Umformung ermitteln. Dabei ergibt sich\n",
    "$$\n",
    "    T^F_\\Gamma(x_2) = \\xi_2=\\frac{x_2-x_{2,0}}{x_{2,1}-x_{2,0}}\n",
    "$$"
   ]
  },
  {
   "cell_type": "code",
   "execution_count": 6,
   "id": "48d303f2-c1e5-4177-ab38-4040fbfdb61a",
   "metadata": {
    "jupyter": {
     "source_hidden": true
    }
   },
   "outputs": [
    {
     "data": {
      "text/latex": [
       "$\\displaystyle F=1:\\qquad T^{1}_\\Gamma(\\xi_2)=1.0 x_{2}$"
      ],
      "text/plain": [
       "<IPython.core.display.Math object>"
      ]
     },
     "metadata": {},
     "output_type": "display_data"
    },
    {
     "data": {
      "text/latex": [
       "$\\displaystyle F=2:\\qquad T^{2}_\\Gamma(\\xi_2)=1.0 x_{2} - 1.0$"
      ],
      "text/plain": [
       "<IPython.core.display.Math object>"
      ]
     },
     "metadata": {},
     "output_type": "display_data"
    }
   ],
   "source": [
    "if not supress_output: output(TF_Gamma, n_elem_y, r'T^{F}_\\Gamma(\\xi_2)', s='F')"
   ]
  },
  {
   "cell_type": "markdown",
   "id": "df0b4698-e4ad-4ac1-9a10-2a30367b00af",
   "metadata": {},
   "source": [
    "### Inverse Jacobimatrix\n",
    "Die inverse Jacobimatrix $(J^F_\\Gamma)^{-1}$, welche in diesem eindimensionalen Fall gleich der Determinante $\\det (J^F_\\Gamma)^{-1}$ ist, berechnet sich aus der inversen Transformation $(T^F_\\Gamma)^{-1}(\\xi_2)$ als\n",
    "$$\n",
    "    (J^F_\\Gamma)^{-1}=\\frac{\\mathrm{d}\\xi_2}{\\mathrm{d} x_2}=\\det (J^F_\\Gamma)^{-1}\n",
    "$$"
   ]
  },
  {
   "cell_type": "code",
   "execution_count": 7,
   "id": "a7bef1d2-b47d-400b-b11c-486a72f3cc75",
   "metadata": {
    "jupyter": {
     "source_hidden": true
    }
   },
   "outputs": [
    {
     "data": {
      "text/latex": [
       "$\\displaystyle F=1:\\qquad (J^{1}_\\Gamma)^{-1}(\\xi_2)=\\det (J^{1}_\\Gamma)^{-1}=1.0$"
      ],
      "text/plain": [
       "<IPython.core.display.Math object>"
      ]
     },
     "metadata": {},
     "output_type": "display_data"
    },
    {
     "data": {
      "text/latex": [
       "$\\displaystyle F=2:\\qquad (J^{2}_\\Gamma)^{-1}(\\xi_2)=\\det (J^{2}_\\Gamma)^{-1}=1.0$"
      ],
      "text/plain": [
       "<IPython.core.display.Math object>"
      ]
     },
     "metadata": {},
     "output_type": "display_data"
    }
   ],
   "source": [
    "JFm1_Gamma = {}\n",
    "\n",
    "for F in range(1, n_elem_y+1):\n",
    "    JFm1_Gamma[F] = sp.diff(TFm1_Gamma[F],xi2)\n",
    "\n",
    "if not supress_output: output(JFm1_Gamma, n_elem_y, r'(J^{F}_\\Gamma)^{-1}(\\xi_2)=\\det (J^{F}_\\Gamma)^{-1}', s='F')"
   ]
  },
  {
   "cell_type": "markdown",
   "id": "b02760e3-a959-403f-96fc-2fd55533fb1c",
   "metadata": {},
   "source": [
    "### Jacobimatrix\n",
    "\n",
    "Die Jacobimatrix $J^F_\\Gamma$, welche in diesem eindimensionalen Fall gleich der Determinante $\\det J^F_\\Gamma$ ist, berechnet sich aus der Transformation $T^F_\\Gamma(x_2)$ als\n",
    "$$\n",
    "    J^F_\\Gamma=\\frac{\\mathrm{d}x_2}{\\mathrm{d} \\xi_2}=\\det J^F_\\Gamma\n",
    "$$"
   ]
  },
  {
   "cell_type": "code",
   "execution_count": 8,
   "id": "2785e904-eb2a-4478-8133-b34ab3ca1206",
   "metadata": {
    "jupyter": {
     "source_hidden": true
    }
   },
   "outputs": [
    {
     "data": {
      "text/latex": [
       "$\\displaystyle F=1:\\qquad J^{1}(\\xi_2)=1.0$"
      ],
      "text/plain": [
       "<IPython.core.display.Math object>"
      ]
     },
     "metadata": {},
     "output_type": "display_data"
    },
    {
     "data": {
      "text/latex": [
       "$\\displaystyle F=2:\\qquad J^{2}(\\xi_2)=1.0$"
      ],
      "text/plain": [
       "<IPython.core.display.Math object>"
      ]
     },
     "metadata": {},
     "output_type": "display_data"
    }
   ],
   "source": [
    "JF_Gamma = {}\n",
    "\n",
    "for F in range(1, n_elem_y+1):\n",
    "    JF_Gamma[F] = sp.diff(TF_Gamma[F],x2)\n",
    "\n",
    "if not supress_output: output(JF_Gamma, n_elem_y, r'J^{F}(\\xi_2)', s='F')"
   ]
  },
  {
   "cell_type": "markdown",
   "id": "d95004a7-b9a6-4f22-90a0-7b4da1ffe342",
   "metadata": {},
   "source": [
    "## Finite Elemente"
   ]
  },
  {
   "cell_type": "markdown",
   "id": "7d92cce9-9990-457f-aa09-c919dd3cabba",
   "metadata": {},
   "source": [
    "### Ansatzfunktionen\n",
    "\n",
    "Im weiteren Verlauf werden sämtliche Berechnungen wie etwa jene der Transformationsabbildungen, der Elementsteifigkeitsmatrizen, der Elementkraftvektoren, etc. am Einheitselement durchgeführt, d.h. die Ansatzfunktionen $N^d(\\mathbf{\\xi})$ sind der Ausgangspunkt aller im Folgenden durchgeführten Berechnungen.\n",
    "\n",
    "Für ein bilineares Element ergeben sich die Ansatzfunktionen zu "
   ]
  },
  {
   "cell_type": "code",
   "execution_count": 9,
   "id": "7dcced16-ad1e-46ef-b845-cba19ef6d3f9",
   "metadata": {
    "jupyter": {
     "source_hidden": true
    }
   },
   "outputs": [
    {
     "data": {
      "text/latex": [
       "$\\displaystyle N^d(\\mathbf{\\xi})=\\left[\\begin{matrix}\\left(1 - \\xi_{1}\\right) \\left(1 - \\xi_{2}\\right)\\\\\\xi_{1} \\left(1 - \\xi_{2}\\right)\\\\\\xi_{1} \\xi_{2}\\\\\\xi_{2} \\left(1 - \\xi_{1}\\right)\\end{matrix}\\right]$"
      ],
      "text/plain": [
       "<IPython.core.display.Math object>"
      ]
     },
     "metadata": {},
     "output_type": "display_data"
    }
   ],
   "source": [
    "N = sp.Matrix([(1-xi1)*(1-xi2),\n",
    "               xi1*(1-xi2),\n",
    "               xi1*xi2,\n",
    "               xi2*(1-xi1)])\n",
    "if not supress_output: output_sp(N, r'N^d(\\mathbf{\\xi})')"
   ]
  },
  {
   "cell_type": "markdown",
   "id": "f7bc25e0-bbfa-40b0-b343-71fc1b33f75b",
   "metadata": {},
   "source": [
    "### Inverse Transformation\n",
    "\n",
    "Die inversen Transformationen $(T^K)^{-1}(\\mathbf{\\xi}):\\Omega\\rightarrow\\Omega^K$ werden mit der isoparametrischen Transformation\n",
    "$$\n",
    "    (T^K)^{-1}(\\mathbf{\\xi})=\\sum\\limits_{d=1}^{4}N^{d}(\\mathbf{\\xi})\\,\\mathbf{x}^{K,d}\n",
    "$$\n",
    "durchgeführt, wobei $\\mathbf{x}^{K,d}$ die Knotenpunktkoordinaten des Elements $K$ sind, welche ganz oben bereits ermittelt wurden."
   ]
  },
  {
   "cell_type": "code",
   "execution_count": 10,
   "id": "d27d6916-9ca6-458b-8b0c-b29d4fa76882",
   "metadata": {
    "jupyter": {
     "source_hidden": true
    }
   },
   "outputs": [
    {
     "data": {
      "text/latex": [
       "$\\displaystyle K=1:\\qquad (T^{1})^{-1}(\\mathbf{\\xi})=\\left[\\begin{matrix}\\frac{3 \\xi_{1}}{2}\\\\\\xi_{2}\\end{matrix}\\right]$"
      ],
      "text/plain": [
       "<IPython.core.display.Math object>"
      ]
     },
     "metadata": {},
     "output_type": "display_data"
    },
    {
     "data": {
      "text/latex": [
       "$\\displaystyle K=2:\\qquad (T^{2})^{-1}(\\mathbf{\\xi})=\\left[\\begin{matrix}\\frac{3 \\xi_{1}}{2} + \\frac{3}{2}\\\\\\xi_{2}\\end{matrix}\\right]$"
      ],
      "text/plain": [
       "<IPython.core.display.Math object>"
      ]
     },
     "metadata": {},
     "output_type": "display_data"
    },
    {
     "data": {
      "text/latex": [
       "$\\displaystyle K=3:\\qquad (T^{3})^{-1}(\\mathbf{\\xi})=\\left[\\begin{matrix}\\frac{3 \\xi_{1}}{2}\\\\\\xi_{2} + 1\\end{matrix}\\right]$"
      ],
      "text/plain": [
       "<IPython.core.display.Math object>"
      ]
     },
     "metadata": {},
     "output_type": "display_data"
    },
    {
     "data": {
      "text/latex": [
       "$\\displaystyle K=4:\\qquad (T^{4})^{-1}(\\mathbf{\\xi})=\\left[\\begin{matrix}\\frac{3 \\xi_{1}}{2} + \\frac{3}{2}\\\\\\xi_{2} + 1\\end{matrix}\\right]$"
      ],
      "text/plain": [
       "<IPython.core.display.Math object>"
      ]
     },
     "metadata": {},
     "output_type": "display_data"
    }
   ],
   "source": [
    "TKm1 = {}\n",
    "\n",
    "for K in range(1,n_elem+1):\n",
    "    TKm1[K] = sp.zeros(dim,1)\n",
    "    for d in range(n_dof_loc):\n",
    "        TKm1[K] += N[d]*xK[K][d,:].T\n",
    "    TKm1[K].simplify()\n",
    "\n",
    "if not supress_output: output(TKm1, n_elem, r'(T^{K})^{-1}(\\mathbf{\\xi})')"
   ]
  },
  {
   "cell_type": "markdown",
   "id": "eb2e8fde-5714-4f2c-9e91-b92641bfb460",
   "metadata": {},
   "source": [
    "### Transformation\n",
    "\n",
    "Die Transformation $T^K(\\mathbf{x}):\\Omega^4\\rightarrow\\Omega$ lässt sich einfach für jedes Element durch elementare Umformungen aus obiger inverser Transformation ermitteln."
   ]
  },
  {
   "cell_type": "code",
   "execution_count": 11,
   "id": "63374f2d-e6fd-4fc7-8c8b-780a41100a97",
   "metadata": {
    "jupyter": {
     "source_hidden": true
    }
   },
   "outputs": [
    {
     "data": {
      "text/latex": [
       "$\\displaystyle K=1:\\qquad T^{1}(\\mathbf{x})=\\left[\\begin{matrix}\\frac{2 x_{1}}{3}\\\\x_{2}\\end{matrix}\\right]$"
      ],
      "text/plain": [
       "<IPython.core.display.Math object>"
      ]
     },
     "metadata": {},
     "output_type": "display_data"
    },
    {
     "data": {
      "text/latex": [
       "$\\displaystyle K=2:\\qquad T^{2}(\\mathbf{x})=\\left[\\begin{matrix}\\frac{2 x_{1}}{3} - 1\\\\x_{2}\\end{matrix}\\right]$"
      ],
      "text/plain": [
       "<IPython.core.display.Math object>"
      ]
     },
     "metadata": {},
     "output_type": "display_data"
    },
    {
     "data": {
      "text/latex": [
       "$\\displaystyle K=3:\\qquad T^{3}(\\mathbf{x})=\\left[\\begin{matrix}\\frac{2 x_{1}}{3}\\\\x_{2} - 1\\end{matrix}\\right]$"
      ],
      "text/plain": [
       "<IPython.core.display.Math object>"
      ]
     },
     "metadata": {},
     "output_type": "display_data"
    },
    {
     "data": {
      "text/latex": [
       "$\\displaystyle K=4:\\qquad T^{4}(\\mathbf{x})=\\left[\\begin{matrix}\\frac{2 x_{1}}{3} - 1\\\\x_{2} - 1\\end{matrix}\\right]$"
      ],
      "text/plain": [
       "<IPython.core.display.Math object>"
      ]
     },
     "metadata": {},
     "output_type": "display_data"
    }
   ],
   "source": [
    "TK = {}\n",
    "\n",
    "for K in range(1,n_elem+1):\n",
    "    TKsol = sp.solve([TKm1[K][0]-x1,TKm1[K][1]-x2],(xi1, xi2))\n",
    "    TK[K] = sp.Matrix([TKsol[xi1],TKsol[xi2]])\n",
    "\n",
    "if not supress_output: output(TK, n_elem, r'T^{K}(\\mathbf{x})')"
   ]
  },
  {
   "cell_type": "markdown",
   "id": "5388e1b6-9ffb-448a-be6a-b618685d2ef7",
   "metadata": {},
   "source": [
    "### Inverse Jacobimatrix\n",
    "\n",
    "Die Inverse Jacobimatrix $(\\mathbf{J}^K)^{-1}$ berechnet sich gemäß Definition mit\n",
    "$$\n",
    "    (\\mathbf{J}^K)^{-1}=\\left[\\frac{\\partial (T^K)^{-1}(\\mathbf{\\xi})}{\\partial\\xi_j}\\right]=\\left[\\frac{\\partial x_i}{\\partial\\xi_j}\\right]\n",
    "$$"
   ]
  },
  {
   "cell_type": "code",
   "execution_count": 12,
   "id": "32e71b96-608a-4cb9-9ac6-4d56597d0bb5",
   "metadata": {
    "jupyter": {
     "source_hidden": true
    }
   },
   "outputs": [
    {
     "data": {
      "text/latex": [
       "$\\displaystyle K=1:\\qquad (J^{1})^{-1}=\\left[\\begin{matrix}\\frac{3}{2} & 0\\\\0 & 1\\end{matrix}\\right]$"
      ],
      "text/plain": [
       "<IPython.core.display.Math object>"
      ]
     },
     "metadata": {},
     "output_type": "display_data"
    },
    {
     "data": {
      "text/latex": [
       "$\\displaystyle K=2:\\qquad (J^{2})^{-1}=\\left[\\begin{matrix}\\frac{3}{2} & 0\\\\0 & 1\\end{matrix}\\right]$"
      ],
      "text/plain": [
       "<IPython.core.display.Math object>"
      ]
     },
     "metadata": {},
     "output_type": "display_data"
    },
    {
     "data": {
      "text/latex": [
       "$\\displaystyle K=3:\\qquad (J^{3})^{-1}=\\left[\\begin{matrix}\\frac{3}{2} & 0\\\\0 & 1\\end{matrix}\\right]$"
      ],
      "text/plain": [
       "<IPython.core.display.Math object>"
      ]
     },
     "metadata": {},
     "output_type": "display_data"
    },
    {
     "data": {
      "text/latex": [
       "$\\displaystyle K=4:\\qquad (J^{4})^{-1}=\\left[\\begin{matrix}\\frac{3}{2} & 0\\\\0 & 1\\end{matrix}\\right]$"
      ],
      "text/plain": [
       "<IPython.core.display.Math object>"
      ]
     },
     "metadata": {},
     "output_type": "display_data"
    }
   ],
   "source": [
    "JKm1 = {}\n",
    "\n",
    "for K in range(1,n_elem+1):\n",
    "    JKm1[K] = TKm1[K].jacobian([xi1, xi2])\n",
    "\n",
    "if not supress_output: output(JKm1, n_elem, r'(J^{K})^{-1}')"
   ]
  },
  {
   "cell_type": "markdown",
   "id": "d889cdfe-9522-4049-9707-955a3615d8d0",
   "metadata": {},
   "source": [
    "Aus den inversen Jacobimatrizen der jeweiligen Elemente können schließlich auch deren Determinanten bestimmt werden, welche für die Transformation der Integrale zur Berechnung der Elementsteifigkeitsmatrizen und -kraftvektoren benötigt werden."
   ]
  },
  {
   "cell_type": "code",
   "execution_count": 13,
   "id": "77bbb3f9-9009-4d35-bdfd-89472a7a1889",
   "metadata": {
    "jupyter": {
     "source_hidden": true
    }
   },
   "outputs": [
    {
     "data": {
      "text/latex": [
       "$\\displaystyle K=1:\\qquad \\det (J^{1})^{-1}=\\frac{3}{2}$"
      ],
      "text/plain": [
       "<IPython.core.display.Math object>"
      ]
     },
     "metadata": {},
     "output_type": "display_data"
    },
    {
     "data": {
      "text/latex": [
       "$\\displaystyle K=2:\\qquad \\det (J^{2})^{-1}=\\frac{3}{2}$"
      ],
      "text/plain": [
       "<IPython.core.display.Math object>"
      ]
     },
     "metadata": {},
     "output_type": "display_data"
    },
    {
     "data": {
      "text/latex": [
       "$\\displaystyle K=3:\\qquad \\det (J^{3})^{-1}=\\frac{3}{2}$"
      ],
      "text/plain": [
       "<IPython.core.display.Math object>"
      ]
     },
     "metadata": {},
     "output_type": "display_data"
    },
    {
     "data": {
      "text/latex": [
       "$\\displaystyle K=4:\\qquad \\det (J^{4})^{-1}=\\frac{3}{2}$"
      ],
      "text/plain": [
       "<IPython.core.display.Math object>"
      ]
     },
     "metadata": {},
     "output_type": "display_data"
    }
   ],
   "source": [
    "detJKm1 = {}\n",
    "\n",
    "for K in range(1,n_elem+1):\n",
    "    detJKm1[K] = JKm1[K].det()\n",
    "\n",
    "if not supress_output: output(detJKm1, n_elem, r'\\det (J^{K})^{-1}')"
   ]
  },
  {
   "cell_type": "markdown",
   "id": "9260ce3d-b37f-4936-9df4-7be02e9bda70",
   "metadata": {},
   "source": [
    "### Jacobimatrix\n",
    "\n",
    "Die Jacobimatrix $\\mathbf{J}^K$ berechnet sich gemäß Definition mit\n",
    "$$\n",
    "    \\mathbf{J}^K=\\left[\\frac{\\partial T^K(\\mathbf{x})}{\\partial x_j}\\right]=\\left[\\frac{\\partial\\xi_i}{\\partial x_j}\\right]\n",
    "$$"
   ]
  },
  {
   "cell_type": "code",
   "execution_count": 14,
   "id": "087d905e-f53f-4172-865d-92b5b65a9666",
   "metadata": {
    "jupyter": {
     "source_hidden": true
    }
   },
   "outputs": [
    {
     "data": {
      "text/latex": [
       "$\\displaystyle K=1:\\qquad J^{1}=\\left[\\begin{matrix}\\frac{2}{3} & 0\\\\0 & 1\\end{matrix}\\right]$"
      ],
      "text/plain": [
       "<IPython.core.display.Math object>"
      ]
     },
     "metadata": {},
     "output_type": "display_data"
    },
    {
     "data": {
      "text/latex": [
       "$\\displaystyle K=2:\\qquad J^{2}=\\left[\\begin{matrix}\\frac{2}{3} & 0\\\\0 & 1\\end{matrix}\\right]$"
      ],
      "text/plain": [
       "<IPython.core.display.Math object>"
      ]
     },
     "metadata": {},
     "output_type": "display_data"
    },
    {
     "data": {
      "text/latex": [
       "$\\displaystyle K=3:\\qquad J^{3}=\\left[\\begin{matrix}\\frac{2}{3} & 0\\\\0 & 1\\end{matrix}\\right]$"
      ],
      "text/plain": [
       "<IPython.core.display.Math object>"
      ]
     },
     "metadata": {},
     "output_type": "display_data"
    },
    {
     "data": {
      "text/latex": [
       "$\\displaystyle K=4:\\qquad J^{4}=\\left[\\begin{matrix}\\frac{2}{3} & 0\\\\0 & 1\\end{matrix}\\right]$"
      ],
      "text/plain": [
       "<IPython.core.display.Math object>"
      ]
     },
     "metadata": {},
     "output_type": "display_data"
    }
   ],
   "source": [
    "JK = {}\n",
    "\n",
    "for K in range(1,n_elem+1):\n",
    "    JK[K] = TK[K].jacobian([x1, x2])\n",
    "\n",
    "if not supress_output: output(JK, n_elem, r'J^{K}')"
   ]
  },
  {
   "cell_type": "markdown",
   "id": "77a7a5d6-e18e-4e2f-8dd1-a2e59d1a30cc",
   "metadata": {},
   "source": [
    "### Ableitungen der Elementansatzfunktionen nach den globalen Koordinaten\n",
    "\n",
    "Zur Berechnung der Elementsteifigkeitsmatrizen werden die Ableitungen der Ansatzfunktionen $\\frac{\\partial N^{K,d}(\\mathbf{x})}{\\partial x_i}$ am allgemeinen Element nach den globalen Koordinaten $\\mathbf{x}$ benötigt.\n",
    "\n",
    "Wie in der Übung gezeigt, ergeben sich diese nach Anwendung der Kettenregel gemäß\n",
    "$$\n",
    "    \\frac{\\partial N^{K,d}(\\mathbf{x})}{\\partial x_i} = \\frac{\\partial N^d(\\mathbf{\\xi})}{\\partial \\xi_j}\\frac{\\partial \\xi_j}{\\partial x_i}\n",
    "$$"
   ]
  },
  {
   "cell_type": "code",
   "execution_count": 15,
   "id": "965d5688-f09c-41ee-9a7d-211024d1b3f4",
   "metadata": {
    "jupyter": {
     "source_hidden": true
    }
   },
   "outputs": [
    {
     "data": {
      "text/latex": [
       "$\\displaystyle K=1:\\qquad \\frac{\\partial N^{1,d}}{\\partial x_i}=\\left[\\begin{matrix}\\frac{2 \\xi_{2}}{3} - \\frac{2}{3} & \\xi_{1} - 1\\\\\\frac{2}{3} - \\frac{2 \\xi_{2}}{3} & - \\xi_{1}\\\\\\frac{2 \\xi_{2}}{3} & \\xi_{1}\\\\- \\frac{2 \\xi_{2}}{3} & 1 - \\xi_{1}\\end{matrix}\\right]$"
      ],
      "text/plain": [
       "<IPython.core.display.Math object>"
      ]
     },
     "metadata": {},
     "output_type": "display_data"
    },
    {
     "data": {
      "text/latex": [
       "$\\displaystyle K=2:\\qquad \\frac{\\partial N^{2,d}}{\\partial x_i}=\\left[\\begin{matrix}\\frac{2 \\xi_{2}}{3} - \\frac{2}{3} & \\xi_{1} - 1\\\\\\frac{2}{3} - \\frac{2 \\xi_{2}}{3} & - \\xi_{1}\\\\\\frac{2 \\xi_{2}}{3} & \\xi_{1}\\\\- \\frac{2 \\xi_{2}}{3} & 1 - \\xi_{1}\\end{matrix}\\right]$"
      ],
      "text/plain": [
       "<IPython.core.display.Math object>"
      ]
     },
     "metadata": {},
     "output_type": "display_data"
    },
    {
     "data": {
      "text/latex": [
       "$\\displaystyle K=3:\\qquad \\frac{\\partial N^{3,d}}{\\partial x_i}=\\left[\\begin{matrix}\\frac{2 \\xi_{2}}{3} - \\frac{2}{3} & \\xi_{1} - 1\\\\\\frac{2}{3} - \\frac{2 \\xi_{2}}{3} & - \\xi_{1}\\\\\\frac{2 \\xi_{2}}{3} & \\xi_{1}\\\\- \\frac{2 \\xi_{2}}{3} & 1 - \\xi_{1}\\end{matrix}\\right]$"
      ],
      "text/plain": [
       "<IPython.core.display.Math object>"
      ]
     },
     "metadata": {},
     "output_type": "display_data"
    },
    {
     "data": {
      "text/latex": [
       "$\\displaystyle K=4:\\qquad \\frac{\\partial N^{4,d}}{\\partial x_i}=\\left[\\begin{matrix}\\frac{2 \\xi_{2}}{3} - \\frac{2}{3} & \\xi_{1} - 1\\\\\\frac{2}{3} - \\frac{2 \\xi_{2}}{3} & - \\xi_{1}\\\\\\frac{2 \\xi_{2}}{3} & \\xi_{1}\\\\- \\frac{2 \\xi_{2}}{3} & 1 - \\xi_{1}\\end{matrix}\\right]$"
      ],
      "text/plain": [
       "<IPython.core.display.Math object>"
      ]
     },
     "metadata": {},
     "output_type": "display_data"
    }
   ],
   "source": [
    "dNddxij = N.jacobian([xi1, xi2])\n",
    "\n",
    "dNKddxi = {}\n",
    "\n",
    "for K in range(1,n_elem+1):\n",
    "    dNKddxi[K] = dNddxij*JK[K]\n",
    "\n",
    "if not supress_output: output(dNKddxi, n_elem, r'\\frac{\\partial N^{K,d}}{\\partial x_i}')"
   ]
  },
  {
   "cell_type": "markdown",
   "id": "c060a80a-5315-4658-bec9-d3b6302539a5",
   "metadata": {},
   "source": [
    "### Elementsteifigkeitsmatrix\n",
    "\n",
    "Mit den oben ermittelten Ableitungen der Ansatzfunktionen und der Determinante der inversen Jacobimatrix des jeweiligen Elements kann nun das Integral zur Berechnung der Einträge der Elementsteifigkeitsmatrix am Einheitselement mit Definitionsgebiet $\\Omega$ mit\n",
    "$$\n",
    "    A^{K,d;K,e} = \\int\\limits_\\Omega N^{K,d}_{,i}(\\mathbf{x})N^{K,e}_{,i}(\\mathbf{x})\\det(\\mathbf{J}^K)^{-1}\\,\\mathrm{d}\\Omega\n",
    "$$\n",
    "angegeben werden."
   ]
  },
  {
   "cell_type": "code",
   "execution_count": 16,
   "id": "d31e33c1-3220-4f14-b9ad-329a9385c865",
   "metadata": {
    "jupyter": {
     "source_hidden": true
    }
   },
   "outputs": [
    {
     "data": {
      "text/latex": [
       "$\\displaystyle K=1:\\qquad A^{1,d;1,e}=\\left[\\begin{matrix}\\frac{13}{18} & \\frac{1}{36} & - \\frac{13}{36} & - \\frac{7}{18}\\\\\\frac{1}{36} & \\frac{13}{18} & - \\frac{7}{18} & - \\frac{13}{36}\\\\- \\frac{13}{36} & - \\frac{7}{18} & \\frac{13}{18} & \\frac{1}{36}\\\\- \\frac{7}{18} & - \\frac{13}{36} & \\frac{1}{36} & \\frac{13}{18}\\end{matrix}\\right]$"
      ],
      "text/plain": [
       "<IPython.core.display.Math object>"
      ]
     },
     "metadata": {},
     "output_type": "display_data"
    },
    {
     "data": {
      "text/latex": [
       "$\\displaystyle K=2:\\qquad A^{2,d;2,e}=\\left[\\begin{matrix}\\frac{13}{18} & \\frac{1}{36} & - \\frac{13}{36} & - \\frac{7}{18}\\\\\\frac{1}{36} & \\frac{13}{18} & - \\frac{7}{18} & - \\frac{13}{36}\\\\- \\frac{13}{36} & - \\frac{7}{18} & \\frac{13}{18} & \\frac{1}{36}\\\\- \\frac{7}{18} & - \\frac{13}{36} & \\frac{1}{36} & \\frac{13}{18}\\end{matrix}\\right]$"
      ],
      "text/plain": [
       "<IPython.core.display.Math object>"
      ]
     },
     "metadata": {},
     "output_type": "display_data"
    },
    {
     "data": {
      "text/latex": [
       "$\\displaystyle K=3:\\qquad A^{3,d;3,e}=\\left[\\begin{matrix}\\frac{13}{18} & \\frac{1}{36} & - \\frac{13}{36} & - \\frac{7}{18}\\\\\\frac{1}{36} & \\frac{13}{18} & - \\frac{7}{18} & - \\frac{13}{36}\\\\- \\frac{13}{36} & - \\frac{7}{18} & \\frac{13}{18} & \\frac{1}{36}\\\\- \\frac{7}{18} & - \\frac{13}{36} & \\frac{1}{36} & \\frac{13}{18}\\end{matrix}\\right]$"
      ],
      "text/plain": [
       "<IPython.core.display.Math object>"
      ]
     },
     "metadata": {},
     "output_type": "display_data"
    },
    {
     "data": {
      "text/latex": [
       "$\\displaystyle K=4:\\qquad A^{4,d;4,e}=\\left[\\begin{matrix}\\frac{13}{18} & \\frac{1}{36} & - \\frac{13}{36} & - \\frac{7}{18}\\\\\\frac{1}{36} & \\frac{13}{18} & - \\frac{7}{18} & - \\frac{13}{36}\\\\- \\frac{13}{36} & - \\frac{7}{18} & \\frac{13}{18} & \\frac{1}{36}\\\\- \\frac{7}{18} & - \\frac{13}{36} & \\frac{1}{36} & \\frac{13}{18}\\end{matrix}\\right]$"
      ],
      "text/plain": [
       "<IPython.core.display.Math object>"
      ]
     },
     "metadata": {},
     "output_type": "display_data"
    }
   ],
   "source": [
    "AKdKe = {}\n",
    "\n",
    "for K in range(1,n_elem+1):\n",
    "\n",
    "    AKdKe[K] = sp.zeros(n_dof_loc,n_dof_loc)\n",
    "    for d in range(n_dof_loc):\n",
    "        for e in range(n_dof_loc):\n",
    "            scalar_prod = 0\n",
    "            for i in range(dim):\n",
    "                scalar_prod += dNKddxi[K][d,i]*dNKddxi[K][e,i]\n",
    "            AKdKe[K][d,e] = sp.integrate(scalar_prod,(xi1,0,1),(xi2,0,1))*detJKm1[K]\n",
    "            \n",
    "if not supress_output: output(AKdKe, n_elem, r'A^{K,d;K,e}')"
   ]
  },
  {
   "cell_type": "markdown",
   "id": "7e84589b-27e3-43d4-8c06-6917cdf0cf37",
   "metadata": {},
   "source": [
    "### Elementkraftvektor\n",
    "\n",
    "Analog lässt sich mit der Quellfunktion $f(\\mathbf{x})$, den Ansatzfunktionen und der Determinante der inversen Jacobimatrix des jeweiligen Elements das Integral zur Berechnung der Einträge des Elementkraftvektors mit\n",
    "$$\n",
    "    F^{K,d} = \\int\\limits_\\Omega f((T^K)^{-1}(\\mathbf{\\xi})) N^{d}(\\mathbf{\\xi})\\det(\\mathbf{J}^K)^{-1}\\,\\mathrm{d}\\Omega+\\int\\limits_\\Gamma\\overline{g}((T^F_\\Gamma)^{-1}(\\mathbf{\\xi}))N^{K,d}(\\mathbf{\\xi})\\,\\mathrm{d}\\Gamma\n",
    "$$\n",
    "angegeben werden.\n",
    "\n",
    "Zuvor werden die in der Angabe angegebenen skalaren Funktionen, die Quellfunktion $f(\\mathbf{x})$ und die Funktion $\\overline{g}(\\mathbf{x})$ entlang des Neumann-Randes, auf das Einheitselement transformiert, d.h. $f((T^K)^{-1}(\\mathbf{\\xi}))$ und $\\overline{g}((T^K)^{-1}(\\mathbf{\\xi}))$."
   ]
  },
  {
   "cell_type": "code",
   "execution_count": 17,
   "id": "8f74abd9-812e-437c-8d16-3357538ec143",
   "metadata": {
    "jupyter": {
     "source_hidden": true
    }
   },
   "outputs": [
    {
     "data": {
      "text/latex": [
       "$\\displaystyle K=1:\\qquad f((T^{1})^{-1}(\\mathbf{x}))=\\frac{9 \\xi_{1}^{2}}{4} + \\xi_{2}^{2}$"
      ],
      "text/plain": [
       "<IPython.core.display.Math object>"
      ]
     },
     "metadata": {},
     "output_type": "display_data"
    },
    {
     "data": {
      "text/latex": [
       "$\\displaystyle K=2:\\qquad f((T^{2})^{-1}(\\mathbf{x}))=\\frac{9 \\xi_{1}^{2}}{4} + \\frac{9 \\xi_{1}}{2} + \\xi_{2}^{2} + \\frac{9}{4}$"
      ],
      "text/plain": [
       "<IPython.core.display.Math object>"
      ]
     },
     "metadata": {},
     "output_type": "display_data"
    },
    {
     "data": {
      "text/latex": [
       "$\\displaystyle K=3:\\qquad f((T^{3})^{-1}(\\mathbf{x}))=\\frac{9 \\xi_{1}^{2}}{4} + \\xi_{2}^{2} + 2 \\xi_{2} + 1$"
      ],
      "text/plain": [
       "<IPython.core.display.Math object>"
      ]
     },
     "metadata": {},
     "output_type": "display_data"
    },
    {
     "data": {
      "text/latex": [
       "$\\displaystyle K=4:\\qquad f((T^{4})^{-1}(\\mathbf{x}))=\\frac{9 \\xi_{1}^{2}}{4} + \\frac{9 \\xi_{1}}{2} + \\xi_{2}^{2} + 2 \\xi_{2} + \\frac{13}{4}$"
      ],
      "text/plain": [
       "<IPython.core.display.Math object>"
      ]
     },
     "metadata": {},
     "output_type": "display_data"
    }
   ],
   "source": [
    "f = {}\n",
    "\n",
    "for K in range(1,n_elem+1):\n",
    "    if isinstance(f_symb, int) or isinstance(f_symb, float):\n",
    "        f[K] = f_symb\n",
    "    else:\n",
    "        f[K] = f_symb.subs({x1:TKm1[K][0],x2:TKm1[K][1]}).expand()\n",
    "\n",
    "if not supress_output: output(f, n_elem, r'f((T^{K})^{-1}(\\mathbf{x}))')"
   ]
  },
  {
   "cell_type": "code",
   "execution_count": 18,
   "id": "96a4a25b-2bf0-4100-8f88-a63f1c89b6fe",
   "metadata": {
    "jupyter": {
     "source_hidden": true
    }
   },
   "outputs": [
    {
     "data": {
      "text/latex": [
       "$\\displaystyle F=1:\\qquad g((T^{1}_\\Gamma)^{-1}(x_2))=1.0 \\xi_{2}$"
      ],
      "text/plain": [
       "<IPython.core.display.Math object>"
      ]
     },
     "metadata": {},
     "output_type": "display_data"
    },
    {
     "data": {
      "text/latex": [
       "$\\displaystyle F=2:\\qquad g((T^{2}_\\Gamma)^{-1}(x_2))=1.0 \\xi_{2} + 1.0$"
      ],
      "text/plain": [
       "<IPython.core.display.Math object>"
      ]
     },
     "metadata": {},
     "output_type": "display_data"
    }
   ],
   "source": [
    "g = {}\n",
    "\n",
    "if only_dirichlet:\n",
    "    for F in range(1,n_elem_y+1):\n",
    "        g[F] = 0\n",
    "elif not only_dirichlet:\n",
    "    for F in range(1,n_elem_y+1):\n",
    "        if isinstance(g_symb, int) or isinstance(g_symb, float):\n",
    "            g[F] = g_symb\n",
    "        else:\n",
    "            g[F] = g_symb.subs(x2,TFm1_Gamma[F]).expand()\n",
    "\n",
    "if not supress_output: output(g, n_elem_y, r'g((T^{F}_\\Gamma)^{-1}(x_2))', s='F')"
   ]
  },
  {
   "cell_type": "markdown",
   "id": "7c98453d-b27a-4d67-9b6a-2563e4a6055c",
   "metadata": {},
   "source": [
    "Mit den transformierten Funktionen $f((T^K)^{-1}(\\mathbf{\\xi}))$ und $\\overline{g}((T^K)^{-1}(\\mathbf{\\xi}))$ lassen sich somit die Elementkraftvektoreinträge berechnen."
   ]
  },
  {
   "cell_type": "code",
   "execution_count": null,
   "id": "fdf0a199-2be2-4240-a813-a629e4cb3709",
   "metadata": {
    "jupyter": {
     "source_hidden": true
    }
   },
   "outputs": [],
   "source": [
    "FKd = {}\n",
    "\n",
    "for K in range(1,n_elem+1):\n",
    "    FKd[K] = sp.zeros(n_dof_loc,1)\n",
    "\n",
    "    if K % n_elem_x == 0:\n",
    "        \n",
    "        F = int(K/n_elem_x)\n",
    "        neu_dof = F_dof[F]\n",
    "   \n",
    "        for d in range(n_dof_loc):\n",
    "            \n",
    "            FKd[K][d] = sp.integrate(f[K]*N[d],(xi1,0,1),(xi2,0,1))*detJKm1[K] + \\\n",
    "                        sp.integrate(g[F]*N[d],(xi2,0,1))*JFm1_Gamma[F]\n",
    "            FKd[K][d] = FKd[K][d].subs(xi1,B_value)\n",
    "            \n",
    "    else:\n",
    "    \n",
    "        for d in range(n_dof_loc):\n",
    "       \n",
    "            FKd[K][d] = sp.integrate(f[K]*N[d],(xi1,0,1),(xi2,0,1))*detJKm1[K]\n",
    "\n",
    "if not supress_output: output(FKd, n_elem, r'F^{K,d}')"
   ]
  },
  {
   "cell_type": "markdown",
   "id": "587c6962-2991-4e59-97c3-6069a145ce97",
   "metadata": {},
   "source": [
    "## Assemblierung\n",
    "\n",
    "Nachdem oben nun alle elementbezogenen Größen ermittelt wurden müssen diese zum Erhalt einer **global stetigen Lösung** assembliert werden. Der erste Schritt besteht darin, die Stetigkeitsmatrix zu ermitteln."
   ]
  },
  {
   "cell_type": "markdown",
   "id": "14ceb46c-be79-4c52-8a2c-f75fbc7feee2",
   "metadata": {},
   "source": [
    "### Stetigkeitsmatrix\n",
    "\n",
    "Mit der Stetigkeitsmatrix $C^{IK,d}$ lassen sich die Elementansatzfunktionen $N^{K,d}(\\mathbf{x})$, welche nur am Element $K$ selbst definiert sind, zu den global stetigen Ansatzfunktionen $u^{I}(\\mathbf{x})$ zusammensetzen. Diesen Vorgang nennt man **Assemblierung**.\n",
    "\n",
    "Die Steteigkeitsmatrix $C^{IK,d}$ ergibt sich dabei wie in der Übung besprochen zu"
   ]
  },
  {
   "cell_type": "code",
   "execution_count": null,
   "id": "cf8da426-a370-46c1-a9f1-9cd5f1c596fc",
   "metadata": {
    "jupyter": {
     "source_hidden": true
    },
    "scrolled": true
   },
   "outputs": [],
   "source": [
    "# Konstruktion der Stetigkeitsmatrix\n",
    "dof_elems = {}\n",
    "\n",
    "for dof in range(n_dof):\n",
    "\n",
    "    x_dof = x[dof,0]\n",
    "    y_dof = x[dof,1]\n",
    "    dof_elems[dof+1] = []\n",
    "\n",
    "    for K, coords in xK.items():\n",
    "\n",
    "        for d in range(coords.rows):\n",
    "            \n",
    "            xd = coords.row(d)[0]\n",
    "            yd = coords.row(d)[1]\n",
    "\n",
    "            if xd.equals(x_dof) and yd.equals(y_dof):\n",
    "                dof_elems[dof+1].append((K,d+1))\n",
    "\n",
    "CIKd = sp.zeros(n_dof, n_elem*n_dof_loc)\n",
    "\n",
    "for I in dof_elems:\n",
    "    for Kd in dof_elems[I]:\n",
    "        i = I-1\n",
    "        j = n_dof_loc*(Kd[0]-1)+Kd[1]-1\n",
    "\n",
    "        CIKd[i,j] = 1\n",
    "\n",
    "if not supress_output: output_sp(CIKd, r'[C^{IK,d}]')"
   ]
  },
  {
   "cell_type": "markdown",
   "id": "ba4aa342-80d4-4b50-8c8c-b2db868c32d6",
   "metadata": {},
   "source": [
    "### Globale Ansatzfunktionen\n",
    "\n",
    "Mit der Stetigkeitsmatrix erhätl man schließlich die global stetigen Ansatzfunktionen gemäß\n",
    "$$\n",
    "    u^I(\\mathbf{x}) = C^{IK,d}\\,N^{K,d}(\\mathbf{x})\n",
    "$$"
   ]
  },
  {
   "cell_type": "code",
   "execution_count": null,
   "id": "db36eb80-ac24-4f18-9c40-3b1bf2c96318",
   "metadata": {
    "jupyter": {
     "source_hidden": true
    }
   },
   "outputs": [],
   "source": [
    "if not supress_output: display(Math(rf'{sp.latex(u_I_symb)}={sp.latex(CIKd)}\\cdot {sp.latex(NK_symb)}'))"
   ]
  },
  {
   "cell_type": "markdown",
   "id": "4a0620bf-5072-4af2-86a3-bae94ec7b2d8",
   "metadata": {},
   "source": [
    "### Globale Steifigkeitsmatrix\n",
    "\n",
    "Die globale Steifigkeitsmatrix $[A^{IJ}]$ lässt sich gemäß\n",
    "$$\n",
    "    A^{IJ}=C^{IK,d}A^{K,d;K,e}_{\\mathrm{tot}}C^{JL,e}\\quad\\Leftrightarrow\\quad\\mathbf{A}=\\mathbf{C}\\cdot\\mathbf{A}_{\\mathrm{tot}}\\cdot\\mathbf{C}^\\top\n",
    "$$\n",
    "berechnen, wobei sich die nicht-assemblierte Steifigkeitsmatrix $[A^{K,d;K,e}_{\\mathrm{tot}}]$ durch die Elementsteifigkeitsmatrizen $[A^{K,d;K,e}]$ entlang der Diagonalen ergibt, d.h."
   ]
  },
  {
   "cell_type": "code",
   "execution_count": null,
   "id": "f97aec34-4fe2-4612-a3bb-39d424eaa7a9",
   "metadata": {
    "jupyter": {
     "source_hidden": true
    }
   },
   "outputs": [],
   "source": [
    "null = sp.zeros(n_dof_loc, n_dof_loc)\n",
    "A_tot = [[None for _ in range(n_elem)] for _ in range(n_elem)]\n",
    "\n",
    "for i in range(n_elem):\n",
    "    for j in range(n_elem):\n",
    "        if i == j:\n",
    "            A_tot[i][j] = AKdKe[i+1]\n",
    "        else:\n",
    "            A_tot[i][j] = null\n",
    "\n",
    "A_tot = sp.Matrix(A_tot)\n",
    "\n",
    "if not supress_output: output_sp(A_tot, r'[A^{K,d;K,e}_{\\mathrm{tot}}]')"
   ]
  },
  {
   "cell_type": "markdown",
   "id": "fe24cba2-dccd-4a6d-8fe9-e3eba2338ef5",
   "metadata": {},
   "source": [
    "Somit erhält man für die globale Steifigkeitsmatrix $[A^{IJ}]$"
   ]
  },
  {
   "cell_type": "code",
   "execution_count": null,
   "id": "13704210-3b67-4f0d-90e2-f017ccaf93c6",
   "metadata": {
    "jupyter": {
     "source_hidden": true
    }
   },
   "outputs": [],
   "source": [
    "A = CIKd*A_tot*CIKd.T\n",
    "\n",
    "if not supress_output: output_sp(A, r'[A^{IJ}]')"
   ]
  },
  {
   "cell_type": "markdown",
   "id": "7eae152f-253a-4da3-a3c3-6bdcc4bd5bc7",
   "metadata": {},
   "source": [
    "### Globaler Kraftvektor\n",
    "\n",
    "Der globale Kraftvektor $[F^{I}]$ lässt sich gemäß\n",
    "$$\n",
    "    F^{I}=C^{IK,d}F^{K,d}\\quad\\Leftrightarrow\\quad\\mathbf{F}=\\mathbf{C}\\cdot\\mathbf{F}_{\\mathrm{tot}}\n",
    "$$\n",
    "berechnen, wobei sich der nicht-assemblierte Kraftvektor $[F^{K,d}_{\\mathrm{tot}}]$ durch vertikale Stapelung der Elementkraftvektoren $[F^{K,d}]$ ergibt, d.h."
   ]
  },
  {
   "cell_type": "code",
   "execution_count": null,
   "id": "c6aa9422-1633-4761-9b4e-55517d20af67",
   "metadata": {
    "jupyter": {
     "source_hidden": true
    }
   },
   "outputs": [],
   "source": [
    "F_tot = []\n",
    "\n",
    "for i in range(n_elem):\n",
    "    F_tot.append(FKd[i+1].T)\n",
    "F_tot = sp.Matrix(sp.BlockMatrix(F_tot)).T\n",
    "\n",
    "if not supress_output: output_sp(F_tot, r'[F^{K,d}_{\\mathrm{tot}}]')"
   ]
  },
  {
   "cell_type": "markdown",
   "id": "e3f325f8-72b6-4e2b-bf8e-e17d295a174c",
   "metadata": {},
   "source": [
    "Somit erhält man für den globalen Kraftvektor $[F^{I}]$"
   ]
  },
  {
   "cell_type": "code",
   "execution_count": null,
   "id": "8c7d8754-b1a2-44c3-808a-fd1a7ddd3081",
   "metadata": {
    "jupyter": {
     "source_hidden": true
    }
   },
   "outputs": [],
   "source": [
    "F = CIKd*F_tot\n",
    "\n",
    "if not supress_output: output_sp(F, r'[F^I]')"
   ]
  },
  {
   "cell_type": "markdown",
   "id": "785a4544-4491-49d1-afba-4787f200f3a3",
   "metadata": {},
   "source": [
    "### Lineares Gleichungssystem ohne Berücksichtigung der Dirichlet-Randbedingungen\n",
    "\n",
    "Das nach der Assemblierung entstehende lineare Gleichungssystem **ohne** Berücksichtigung der Dirichlet-Randbedingungen\n",
    "$$\n",
    "    A^{IJ}\\hat{u}^I=F^{I}\\quad\\Leftrightarrow\\quad\\mathbf{A}\\cdot\\hat{\\mathbf{u}}=\\mathbf{F}\n",
    "$$\n",
    "zur Ermittlung der gesuchten Freiheitsgrade and den Knotenpunkten $\\hat{u}^I$ schreibt sich als"
   ]
  },
  {
   "cell_type": "code",
   "execution_count": null,
   "id": "eb2ad167-f310-42de-92c7-030d7b2c4761",
   "metadata": {
    "jupyter": {
     "source_hidden": true
    }
   },
   "outputs": [],
   "source": [
    "if not supress_output: display(Math(rf'{sp.latex(A)}\\cdot{sp.latex(u_hat_symb)}={sp.latex(F)}'))"
   ]
  },
  {
   "cell_type": "markdown",
   "id": "73968cfc-e398-466a-b0cc-bd441bfbc88f",
   "metadata": {},
   "source": [
    "### Lineares Gleichungssystem mit Berücksichtigung der Dirichlet-Randbedingungen\n",
    "\n",
    "Nun müssen noch die Dirichlet-Randbedingungen in das obige Gleichungssystem eingearbeitet werden. Gemäß der Angabe gilt dort $u(\\mathbf{x})=0,\\mathbf{x}\\in\\partial\\hat{\\Omega}_D$. Berücksichtigt man dies, ergibt sich das folgende zu lösende Gleichungssystem"
   ]
  },
  {
   "cell_type": "code",
   "execution_count": null,
   "id": "68f6f2dd-ecc7-4a12-8b3b-cdf9bd69f332",
   "metadata": {
    "jupyter": {
     "source_hidden": true
    }
   },
   "outputs": [],
   "source": [
    "A_dir = []\n",
    "F_dir = []\n",
    "\n",
    "# Bestimme Freiheitsgrade welche zum Dirichlet-Rand gehören\n",
    "dir_bottom = np.arange(1, (n_elem_x+1)+1, 1)\n",
    "dir_left = np.arange((n_elem_x+1)+1,(n_elem_x+1)*n_elem_y+2, (n_elem_x+1))\n",
    "dir_top = np.arange((n_elem_x+1)*n_elem_y+2, (n_elem_x+1)*(n_elem_y+1)+1)\n",
    "\n",
    "if only_dirichlet:\n",
    "    dir_right = np.arange((n_elem_x+1),(n_elem_x+1)*(n_elem_y+1)+1,n_elem_x+1)[1:-1]\n",
    "    dir_dofs = np.concatenate((dir_bottom, dir_left, dir_top, dir_right), axis=0)\n",
    "\n",
    "elif not only_dirichlet:\n",
    "    dir_dofs = np.concatenate((dir_bottom, dir_left, dir_top), axis=0)\n",
    "\n",
    "# Ersetze alle Zeilen mit Verträglichkeit durch die Dirichlet Randbedingungen\n",
    "for i in range(n_dof):\n",
    "    if i+1 in dir_dofs:\n",
    "        row = [0 for _ in range(n_dof)]\n",
    "        row[i] = 1\n",
    "        A_dir.append(row)\n",
    "        F_dir.append(u0_value)\n",
    "    else:\n",
    "        A_dir.append(A[i,:])\n",
    "        F_dir.append(F[i,0])\n",
    "\n",
    "A_dir = sp.Matrix(A_dir)\n",
    "F_dir = sp.Matrix(F_dir)"
   ]
  },
  {
   "cell_type": "code",
   "execution_count": null,
   "id": "613e6e4c-7051-4e70-bf46-5c89acbd3507",
   "metadata": {
    "jupyter": {
     "source_hidden": true
    }
   },
   "outputs": [],
   "source": [
    "if not supress_output: display(Math(rf'{sp.latex(A_dir)}\\cdot{sp.latex(u_hat_symb)}={sp.latex(F_dir)}'))"
   ]
  },
  {
   "cell_type": "markdown",
   "id": "85cee8c2-49d3-4ecd-85f9-2550198470f0",
   "metadata": {},
   "source": [
    "## Lösung\n",
    "\n",
    "Löst man nun das obige Gleichungssystem mit Berücksichtigung der Dirichlet-Randbedingungen, so erhält man die gesuchten Knotenpunktwerte $\\hat{u}_I$. Die approximierte Lösungsfunktion ergibt sich damit schließlich mit den insgesamt $N$ Freiheitsgraden als Linearkombination der ermittelten Knotenpunktwerte $\\hat{u}_I$ mit den zugehörigen globalen, stetigen Ansatzfunktionen $u^I(\\mathbf{x})$ als\n",
    "$$\n",
    "    u(\\mathbf{x})\\approx u^h(\\mathbf{x})=\\sum_{I=1}^{N}\\hat{u}_I\\,u^I(\\mathbf{x})\n",
    "$$\n",
    "Diese approximierte Lösungsfunktion $u^h(\\mathbf{x})$ sein nun unten dargestellt."
   ]
  },
  {
   "cell_type": "code",
   "execution_count": null,
   "id": "232c14ff-f39c-4955-87a2-efd558d6d75a",
   "metadata": {
    "editable": true,
    "jupyter": {
     "source_hidden": true
    },
    "slideshow": {
     "slide_type": ""
    },
    "tags": []
   },
   "outputs": [],
   "source": [
    "eq = A_dir*u_hat_symb - F_dir\n",
    "\n",
    "u_hat = sp.solve(eq)\n",
    "u_hat_sorted = dict(sorted(u_hat.items(), key=lambda item: int(item[0].name.split('_')[1])))\n",
    "\n",
    "u_hat_num = np.array([v for v in u_hat_sorted.values()]).astype(np.float64)"
   ]
  },
  {
   "cell_type": "code",
   "execution_count": null,
   "id": "d0b150a7-22cd-453d-888c-bb89c6fb22a7",
   "metadata": {
    "editable": true,
    "jupyter": {
     "source_hidden": true
    },
    "slideshow": {
     "slide_type": ""
    },
    "tags": []
   },
   "outputs": [],
   "source": [
    "xx = np.linspace(0,B_value,n_elem_x+1)\n",
    "yy = np.linspace(0,H_value,n_elem_y+1)\n",
    "zz = u_hat_num\n",
    "\n",
    "X, Y = np.meshgrid(xx,yy)\n",
    "Z = zz.reshape(n_elem_y+1, n_elem_x+1)\n",
    "\n",
    "fig = plt.figure()\n",
    "ax = fig.add_subplot(111, projection='3d')\n",
    "ax.plot_surface(X, Y, Z, cmap='viridis', edgecolor='k')\n",
    "ax.set_xlabel('$x_1$')\n",
    "ax.set_ylabel('$x_2$')\n",
    "ax.set_zlabel('$u(x_1, x_2)$')\n",
    "#ax.set_zticks([])\n",
    "world_limits = ax.get_w_lims()\n",
    "H = 0.6*np.max([B_value, H_value])\n",
    "ax.set_box_aspect((world_limits[1]-world_limits[0],world_limits[3]-world_limits[2],H))\n",
    "plt.show()"
   ]
  },
  {
   "cell_type": "code",
   "execution_count": null,
   "id": "d081db85-88a0-4fad-97ae-770eb83696b4",
   "metadata": {
    "jupyter": {
     "source_hidden": true
    }
   },
   "outputs": [],
   "source": []
  }
 ],
 "metadata": {
  "kernelspec": {
   "display_name": "Python 3 (ipykernel)",
   "language": "python",
   "name": "python3"
  },
  "language_info": {
   "codemirror_mode": {
    "name": "ipython",
    "version": 3
   },
   "file_extension": ".py",
   "mimetype": "text/x-python",
   "name": "python",
   "nbconvert_exporter": "python",
   "pygments_lexer": "ipython3",
   "version": "3.12.3"
  }
 },
 "nbformat": 4,
 "nbformat_minor": 5
}
