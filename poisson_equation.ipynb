{
 "cells": [
  {
   "cell_type": "code",
   "execution_count": 1,
   "id": "a0948167-809b-4001-87f3-498ee3e79ccb",
   "metadata": {
    "editable": true,
    "jupyter": {
     "source_hidden": true
    },
    "slideshow": {
     "slide_type": ""
    },
    "tags": []
   },
   "outputs": [],
   "source": [
    "%matplotlib ipympl\n",
    "\n",
    "import sympy as sp\n",
    "import matplotlib.tri as tri\n",
    "import numpy as np\n",
    "from IPython.display import Math, display\n",
    "\n",
    "def output(dictionary, n, lhs, s='K'):\n",
    "    for i in range(1,n+1):\n",
    "        i1_string = rf'{s}={i}:\\qquad '\n",
    "        i2_string = rf'{lhs}={sp.latex(dictionary[i])}'.replace(s,str(i))\n",
    "        display(Math(i1_string+i2_string))\n",
    "\n",
    "def output_sp(element, lhs):\n",
    "    display(Math(rf'{lhs}={sp.latex(element)}'))\n",
    "\n",
    "xi1, xi2, B, H, x1, x2 = sp.symbols('xi_1 xi_2 B H x_1 x_2')"
   ]
  },
  {
   "cell_type": "markdown",
   "id": "009ef3b8-5135-4a6a-9d5a-6f66c0a6a0c5",
   "metadata": {},
   "source": [
    "# **Aufgabe 12** Poisson-Gleichung, Teil 2: Finite Elemente Modellierung\n",
    "Hier können die Anzahl der Elemente in $x_1$- und $x_2$-Richtung, sowie die Abmessungen $B$ und $H$ als auch der (konstante) Funktionswert $u_0(\\mathbf{x})$ am Dirichlet-Rand $\\partial\\hat{\\Omega}_D$ verändert werden."
   ]
  },
  {
   "cell_type": "code",
   "execution_count": 2,
   "id": "e1c603e1-3193-402c-8f58-c12c0f58983d",
   "metadata": {
    "editable": true,
    "slideshow": {
     "slide_type": ""
    },
    "tags": []
   },
   "outputs": [],
   "source": [
    "n_elem_x = 2              # Anzahl der Elemente in x_1-Richtung\n",
    "n_elem_y = 2              # Anzahl der Elemente in x_2-Richtung\n",
    "B_value = 3               # Abmessung B\n",
    "H_value = 2               # Abmessung H\n",
    "u0_value = 0              # Konstanter Funktionswert am Dirichlet-Rand\n",
    "\n",
    "f_symb = x1**2+x2**2      # Quellfunktion f(x1, x2)\n",
    "g_symb = x2               # Funktion am Neumann-Rand g(x2)"
   ]
  },
  {
   "cell_type": "markdown",
   "id": "2fb4c4fe-3639-49d4-9cb9-e73d43fa2426",
   "metadata": {
    "editable": true,
    "slideshow": {
     "slide_type": ""
    },
    "tags": []
   },
   "source": [
    "Ergänzend seien hier nocheinmal das Definitionsgebiet $\\hat{\\Omega}$ mit Dirichlet- und Neumann-Rand $\\partial\\hat{\\Omega}_D$ bzw. $\\partial\\hat{\\Omega}_N$ und die Nummerierung der Elemente $K$ und der globalen Freiheitsgrade $I$ dargestellt. Ebenfalls\n",
    "\n",
    "<img src=\"pics/domain.png\" width=500>"
   ]
  },
  {
   "cell_type": "code",
   "execution_count": 3,
   "id": "3e24afa6-ddc7-4b37-86ff-bb1c298712da",
   "metadata": {
    "editable": true,
    "slideshow": {
     "slide_type": ""
    },
    "tags": []
   },
   "outputs": [],
   "source": [
    "only_dirichlet = False\n",
    "supress_output = True\n",
    "\n",
    "order = 'bilinear' # Ordnung der Elemente\n",
    "dim = 2 # Dimension\n",
    "n_elem = int(n_elem_x*n_elem_y) # Anazhl der Elemente\n",
    "n_dof = int((n_elem_x+1)*(n_elem_y+1)) # Anzahl der globalen Freiheitsgrade\n",
    "n_dof_loc = 4 if order == 'bilinear' else None # Anzahl der Elementfreiheitsgrade\n",
    "\n",
    "# Symbolische Variablen der globalen Freiheitsgrade\n",
    "u_hat_symb = sp.symbols([rf'\\hat{{u}}_{i}' for i in range(1,n_dof+1)])\n",
    "u_hat_symb = sp.Matrix(u_hat_symb)\n",
    "\n",
    "# Symbolische Variablen der globalen Ansatzfunktionen\n",
    "u_I_symb = sp.symbols([rf'u^{{{i}}}(\\mathbf{{x}})' for i in range(1,n_dof+1)])\n",
    "u_I_symb = sp.Matrix(u_I_symb)\n",
    "\n",
    "# Symbolische Variablen der lokalen Freiheitsgrade\n",
    "NK_symb = sp.symbols([rf'N^{{{K}\\,{d}}}(\\mathbf{{x}})' for K in range(1,n_elem+1) for d in range(1,n_dof_loc+1)])\n",
    "NK_symb = sp.Matrix(NK_symb)"
   ]
  },
  {
   "cell_type": "markdown",
   "id": "af0e3ad5-0530-4f09-981a-e177e7e03939",
   "metadata": {},
   "source": [
    "## Diskretes Rechengebiet (Mesh)\n",
    "\n",
    "Als erstes werden hier alle nötigen Informationen über das diskrete Rechengebiet (Mesh), welche für die anschließende Berechnung der Elementsteifigkeitsmatrizen, der Elementkraftvektoren, etc. benötigt werden, ermittelt.\n",
    "\n",
    "Wichtig sind hierbei die Knotenpunktkoordinaten $\\mathbf{x}^{K,d}$ der $K$ Elemente.\n",
    "\n",
    "### Knotenpunktkoordinaten"
   ]
  },
  {
   "cell_type": "code",
   "execution_count": 4,
   "id": "e448bd08-5ade-4d17-92d2-7867ebfc6a2a",
   "metadata": {},
   "outputs": [],
   "source": [
    "# Koordinaten der Knotenpunkte\n",
    "x = sp.Matrix([[i*B_value/n_elem_x, j*H_value/n_elem_y] for j in range(n_elem_y+1) for i in range(n_elem_x+1)])\n",
    "\n",
    "# Elemente mit Freiheitsgrade\n",
    "K_dof = {}\n",
    "\n",
    "# Elemente mit Knotenpunkten\n",
    "xK = {}\n",
    "for j in range(n_elem_y):\n",
    "    for i in range(n_elem_x):\n",
    "        \n",
    "        K = j*n_elem_x+i+1\n",
    "\n",
    "        # Fuege globale Freiheitsgrade zu den Elementen hinzu\n",
    "        d1 = j*(n_elem_x+1)+i+1      # links unten\n",
    "        d2 = d1 + 1                  # rechts unten\n",
    "        d3 = d1 + (n_elem_x+1) + 1   # rechts oben\n",
    "        d4 = d1 + (n_elem_x+1)       # links oben\n",
    "\n",
    "        K_dof[K] = [d1, d2, d3, d4]\n",
    "        \n",
    "        # Ermittle Knotenpunktkoordinaten der Elemente\n",
    "        xK[K] = sp.zeros(n_dof_loc, dim)\n",
    "        \n",
    "        xK[K][0,0] = i*sp.Rational(B_value,n_elem_x)\n",
    "        xK[K][1,0] = (i+1)*sp.Rational(B_value,n_elem_x)\n",
    "        xK[K][2,0] = (i+1)*sp.Rational(B_value,n_elem_x)\n",
    "        xK[K][3,0] = i*sp.Rational(B_value,n_elem_x)\n",
    "\n",
    "        xK[K][0,1] = j*sp.Rational(H_value,n_elem_y)\n",
    "        xK[K][1,1] = j*sp.Rational(H_value,n_elem_y)\n",
    "        xK[K][2,1] = (j+1)*sp.Rational(H_value,n_elem_y)\n",
    "        xK[K][3,1] = (j+1)*sp.Rational(H_value,n_elem_y)\n",
    "    \n",
    "if not supress_output: output(xK, n_elem, r'\\mathbf{x}^{K,d}')"
   ]
  },
  {
   "cell_type": "markdown",
   "id": "df3fcece-acb4-48a4-b17c-2866771ff5f8",
   "metadata": {
    "editable": true,
    "slideshow": {
     "slide_type": ""
    },
    "tags": []
   },
   "source": [
    "## Neumann Rand\n",
    "\n",
    "Am Neumann-Rand \"wirkt\" die Funktion $\\overline{g}(\\mathbf{x}),\\mathbf{x}\\in\\partial\\hat{\\Omega}_N$. Diese Funktion muss anschließend bei der Berechnung der Elementkraftvektoren an jenen Elementen $K$ welche diesen Rand beinhalten berücksichtigt werden. Da die Integration sämtlicher Integrale am Einheitselement durchgeführt werden, müssen auch die Rand(linien)elemente ensprechend transformiert werden."
   ]
  },
  {
   "cell_type": "markdown",
   "id": "c485eddf-6c87-4be9-9fe9-414757e73341",
   "metadata": {},
   "source": [
    "### Inverse Transformation\n",
    "An dieser Stelle werden die inversen Transformationen $(T^F_\\Gamma)^{-1}(\\xi_2):\\Gamma\\rightarrow\\Gamma^F$ der Rand(linien)elemente $F$ entlang des Neumann-Randes ermittelt. Diese lassen sich einfach durch die eindimensionale affine Transformation\n",
    "$$\n",
    "    (T^F_\\Gamma)^{-1}(\\xi_2)=x_2=x_{2,0}+(x_{2,1}-x_{2,0})\\xi_2\n",
    "$$\n",
    "ermitteln."
   ]
  },
  {
   "cell_type": "code",
   "execution_count": 5,
   "id": "a5fa7a53-5feb-4e0e-b813-beb5a983c07e",
   "metadata": {},
   "outputs": [],
   "source": [
    "neu_right_T = np.arange((n_elem_x+1),(n_elem_x+1)*(n_elem_y+1)+1,n_elem_x+1)\n",
    "F_dof = {}\n",
    "\n",
    "TFm1_Gamma = {}\n",
    "TF_Gamma = {}\n",
    "for F in range(1, n_elem_y+1):\n",
    "    \n",
    "    dof0 = neu_right_T[F-1]\n",
    "    dof1 = neu_right_T[F-1]+n_elem_y\n",
    "\n",
    "    if F == 1:\n",
    "        F_dof[F] = [dof1]\n",
    "    elif F == n_elem_y:\n",
    "        F_dof[F] = [dof0]\n",
    "    else:\n",
    "        F_dof[F] = [dof0, dof1]\n",
    "    \n",
    "    x20 = x[dof0-1,1]\n",
    "    x21 = x[dof1-1,1]\n",
    "    \n",
    "    TFm1_Gamma[F] = x20+(x21-x20)*xi2\n",
    "    TF_Gamma[F] = (x2-x20)/(x21-x20)\n",
    "\n",
    "neu_right = neu_right_T[1:-1]\n",
    "\n",
    "if not supress_output: output(TFm1_Gamma, n_elem_y, r'(T^{F}_\\Gamma)^{-1}(\\xi_2)', s='F')"
   ]
  },
  {
   "cell_type": "markdown",
   "id": "58854e37-be8e-49be-a6b5-f2043f138e91",
   "metadata": {},
   "source": [
    "### Transformation\n",
    "Aus der obigen inversen Transformation $(T^F_\\Gamma)^{-1}(\\xi_2):\\Gamma\\rightarrow\\Gamma^F$ lässt sich leicht die Transformation $T^F_\\Gamma(x_2):\\Gamma^F\\rightarrow\\Gamma$ für das jeweilige Randelement $F$ durch Umformung ermitteln. Dabei ergibt sich\n",
    "$$\n",
    "    T^F_\\Gamma(x_2) = \\xi_2=\\frac{x_2-x_{2,0}}{x_{2,1}-x_{2,0}}\n",
    "$$"
   ]
  },
  {
   "cell_type": "code",
   "execution_count": 6,
   "id": "48d303f2-c1e5-4177-ab38-4040fbfdb61a",
   "metadata": {},
   "outputs": [],
   "source": [
    "if not supress_output: output(TF_Gamma, n_elem_y, r'T^{F}_\\Gamma(\\xi_2)', s='F')"
   ]
  },
  {
   "cell_type": "markdown",
   "id": "df0b4698-e4ad-4ac1-9a10-2a30367b00af",
   "metadata": {},
   "source": [
    "### Inverse Jacobimatrix\n",
    "Die inverse Jacobimatrix $(J^F_\\Gamma)^{-1}$, welche in diesem eindimensionalen Fall gleich der Determinante $\\det (J^F_\\Gamma)^{-1}$ ist, berechnet sich aus der inversen Transformation $(T^F_\\Gamma)^{-1}(\\xi_2)$ als\n",
    "$$\n",
    "    (J^F_\\Gamma)^{-1}=\\frac{\\mathrm{d}\\xi_2}{\\mathrm{d} x_2}=\\det (J^F_\\Gamma)^{-1}\n",
    "$$"
   ]
  },
  {
   "cell_type": "code",
   "execution_count": 7,
   "id": "a7bef1d2-b47d-400b-b11c-486a72f3cc75",
   "metadata": {},
   "outputs": [],
   "source": [
    "JFm1_Gamma = {}\n",
    "\n",
    "for F in range(1, n_elem_y+1):\n",
    "    JFm1_Gamma[F] = sp.diff(TFm1_Gamma[F],xi2)\n",
    "\n",
    "if not supress_output: output(JFm1_Gamma, n_elem_y, r'(J^{F}_\\Gamma)^{-1}(\\xi_2)=\\det (J^{F}_\\Gamma)^{-1}', s='F')"
   ]
  },
  {
   "cell_type": "markdown",
   "id": "b02760e3-a959-403f-96fc-2fd55533fb1c",
   "metadata": {},
   "source": [
    "### Jacobimatrix\n",
    "\n",
    "Die Jacobimatrix $J^F_\\Gamma$, welche in diesem eindimensionalen Fall gleich der Determinante $\\det J^F_\\Gamma$ ist, berechnet sich aus der Transformation $T^F_\\Gamma(x_2)$ als\n",
    "$$\n",
    "    J^F_\\Gamma=\\frac{\\mathrm{d}x_2}{\\mathrm{d} \\xi_2}=\\det J^F_\\Gamma\n",
    "$$"
   ]
  },
  {
   "cell_type": "code",
   "execution_count": 8,
   "id": "2785e904-eb2a-4478-8133-b34ab3ca1206",
   "metadata": {},
   "outputs": [],
   "source": [
    "JF_Gamma = {}\n",
    "\n",
    "for F in range(1, n_elem_y+1):\n",
    "    JF_Gamma[F] = sp.diff(TF_Gamma[F],x2)\n",
    "\n",
    "if not supress_output: output(JF_Gamma, n_elem_y, r'J^{F}(\\xi_2)', s='F')"
   ]
  },
  {
   "cell_type": "markdown",
   "id": "d95004a7-b9a6-4f22-90a0-7b4da1ffe342",
   "metadata": {},
   "source": [
    "## Finite Elemente"
   ]
  },
  {
   "cell_type": "markdown",
   "id": "7d92cce9-9990-457f-aa09-c919dd3cabba",
   "metadata": {},
   "source": [
    "### Ansatzfunktionen\n",
    "\n",
    "Im weiteren Verlauf werden sämtliche Berechnungen wie etwa jene der Transformationsabbildungen, der Elementsteifigkeitsmatrizen, der Elementkraftvektoren, etc. am Einheitselement durchgeführt, d.h. die Ansatzfunktionen $N^d(\\mathbf{\\xi})$ sind der Ausgangspunkt aller im Folgenden durchgeführten Berechnungen.\n",
    "\n",
    "Für ein bilineares Element ergeben sich die Ansatzfunktionen zu "
   ]
  },
  {
   "cell_type": "code",
   "execution_count": 9,
   "id": "7dcced16-ad1e-46ef-b845-cba19ef6d3f9",
   "metadata": {},
   "outputs": [],
   "source": [
    "N = sp.Matrix([(1-xi1)*(1-xi2),\n",
    "               xi1*(1-xi2),\n",
    "               xi1*xi2,\n",
    "               xi2*(1-xi1)])\n",
    "if not supress_output: output_sp(N, r'N^d(\\mathbf{\\xi})')"
   ]
  },
  {
   "cell_type": "markdown",
   "id": "f7bc25e0-bbfa-40b0-b343-71fc1b33f75b",
   "metadata": {},
   "source": [
    "### Inverse Transformation\n",
    "\n",
    "Die inversen Transformationen $(T^K)^{-1}(\\mathbf{\\xi}):\\Omega\\rightarrow\\Omega^K$ werden mit der isoparametrischen Transformation\n",
    "$$\n",
    "    (T^K)^{-1}(\\mathbf{\\xi})=\\sum\\limits_{d=1}^{4}N^{d}(\\mathbf{\\xi})\\,\\mathbf{x}^{K,d}\n",
    "$$\n",
    "durchgeführt, wobei $\\mathbf{x}^{K,d}$ die Knotenpunktkoordinaten des Elements $K$ sind, welche ganz oben bereits ermittelt wurden."
   ]
  },
  {
   "cell_type": "code",
   "execution_count": 10,
   "id": "d27d6916-9ca6-458b-8b0c-b29d4fa76882",
   "metadata": {},
   "outputs": [],
   "source": [
    "TKm1 = {}\n",
    "\n",
    "for K in range(1,n_elem+1):\n",
    "    TKm1[K] = sp.zeros(dim,1)\n",
    "    for d in range(n_dof_loc):\n",
    "        TKm1[K] += N[d]*xK[K][d,:].T\n",
    "    TKm1[K].simplify()\n",
    "\n",
    "if not supress_output: output(TKm1, n_elem, r'(T^{K})^{-1}(\\mathbf{\\xi})')"
   ]
  },
  {
   "cell_type": "markdown",
   "id": "eb2e8fde-5714-4f2c-9e91-b92641bfb460",
   "metadata": {},
   "source": [
    "### Transformation\n",
    "\n",
    "Die Transformation $T^K(\\mathbf{x}):\\Omega^4\\rightarrow\\Omega$ lässt sich einfach für jedes Element durch elementare Umformungen aus obiger inverser Transformation ermitteln."
   ]
  },
  {
   "cell_type": "code",
   "execution_count": 11,
   "id": "63374f2d-e6fd-4fc7-8c8b-780a41100a97",
   "metadata": {},
   "outputs": [],
   "source": [
    "TK = {}\n",
    "\n",
    "for K in range(1,n_elem+1):\n",
    "    TKsol = sp.solve([TKm1[K][0]-x1,TKm1[K][1]-x2],(xi1, xi2))\n",
    "    TK[K] = sp.Matrix([TKsol[xi1],TKsol[xi2]])\n",
    "\n",
    "if not supress_output: output(TK, n_elem, r'T^{K}(\\mathbf{x})')"
   ]
  },
  {
   "cell_type": "markdown",
   "id": "5388e1b6-9ffb-448a-be6a-b618685d2ef7",
   "metadata": {},
   "source": [
    "### Inverse Jacobimatrix\n",
    "\n",
    "Die Inverse Jacobimatrix $(\\mathbf{J}^K)^{-1}$ berechnet sich gemäß Definition mit\n",
    "$$\n",
    "    (\\mathbf{J}^K)^{-1}=\\left[\\frac{\\partial (T^K)^{-1}(\\mathbf{\\xi})}{\\partial\\xi_j}\\right]=\\left[\\frac{\\partial x_i}{\\partial\\xi_j}\\right]\n",
    "$$"
   ]
  },
  {
   "cell_type": "code",
   "execution_count": 12,
   "id": "32e71b96-608a-4cb9-9ac6-4d56597d0bb5",
   "metadata": {},
   "outputs": [],
   "source": [
    "JKm1 = {}\n",
    "\n",
    "for K in range(1,n_elem+1):\n",
    "    JKm1[K] = TKm1[K].jacobian([xi1, xi2])\n",
    "\n",
    "if not supress_output: output(JKm1, n_elem, r'(J^{K})^{-1}')"
   ]
  },
  {
   "cell_type": "markdown",
   "id": "d889cdfe-9522-4049-9707-955a3615d8d0",
   "metadata": {},
   "source": [
    "Aus den inversen Jacobimatrizen der jeweiligen Elemente können schließlich auch deren Determinanten bestimmt werden, welche für die Transformation der Integrale zur Berechnung der Elementsteifigkeitsmatrizen und -kraftvektoren benötigt werden."
   ]
  },
  {
   "cell_type": "code",
   "execution_count": 13,
   "id": "77bbb3f9-9009-4d35-bdfd-89472a7a1889",
   "metadata": {},
   "outputs": [],
   "source": [
    "detJKm1 = {}\n",
    "\n",
    "for K in range(1,n_elem+1):\n",
    "    detJKm1[K] = JKm1[K].det()\n",
    "\n",
    "if not supress_output: output(detJKm1, n_elem, r'\\det (J^{K})^{-1}')"
   ]
  },
  {
   "cell_type": "markdown",
   "id": "9260ce3d-b37f-4936-9df4-7be02e9bda70",
   "metadata": {},
   "source": [
    "### Jacobimatrix\n",
    "\n",
    "Die Jacobimatrix $\\mathbf{J}^K$ berechnet sich gemäß Definition mit\n",
    "$$\n",
    "    \\mathbf{J}^K=\\left[\\frac{\\partial T^K(\\mathbf{x})}{\\partial x_j}\\right]=\\left[\\frac{\\partial\\xi_i}{\\partial x_j}\\right]\n",
    "$$"
   ]
  },
  {
   "cell_type": "code",
   "execution_count": 14,
   "id": "087d905e-f53f-4172-865d-92b5b65a9666",
   "metadata": {},
   "outputs": [],
   "source": [
    "JK = {}\n",
    "\n",
    "for K in range(1,n_elem+1):\n",
    "    JK[K] = TK[K].jacobian([x1, x2])\n",
    "\n",
    "if not supress_output: output(JK, n_elem, r'J^{K}')"
   ]
  },
  {
   "cell_type": "markdown",
   "id": "77a7a5d6-e18e-4e2f-8dd1-a2e59d1a30cc",
   "metadata": {},
   "source": [
    "### Ableitungen der Elementansatzfunktionen nach den globalen Koordinaten\n",
    "\n",
    "Zur Berechnung der Elementsteifigkeitsmatrizen werden die Ableitungen der Ansatzfunktionen $\\frac{\\partial N^{K,d}(\\mathbf{x})}{\\partial x_i}$ am allgemeinen Element nach den globalen Koordinaten $\\mathbf{x}$ benötigt.\n",
    "\n",
    "Wie in der Übung gezeigt, ergeben sich diese nach Anwendung der Kettenregel gemäß\n",
    "$$\n",
    "    \\frac{\\partial N^{K,d}(\\mathbf{x})}{\\partial x_i} = \\frac{\\partial N^d(\\mathbf{\\xi})}{\\partial \\xi_j}\\frac{\\partial \\xi_j}{\\partial x_i}\n",
    "$$"
   ]
  },
  {
   "cell_type": "code",
   "execution_count": 15,
   "id": "965d5688-f09c-41ee-9a7d-211024d1b3f4",
   "metadata": {},
   "outputs": [],
   "source": [
    "dNddxij = N.jacobian([xi1, xi2])\n",
    "\n",
    "dNKddxi = {}\n",
    "\n",
    "for K in range(1,n_elem+1):\n",
    "    dNKddxi[K] = dNddxij*JK[K]\n",
    "\n",
    "if not supress_output: output(dNKddxi, n_elem, r'\\frac{\\partial N^{K,d}}{\\partial x_i}')"
   ]
  },
  {
   "cell_type": "markdown",
   "id": "c060a80a-5315-4658-bec9-d3b6302539a5",
   "metadata": {},
   "source": [
    "### Elementsteifigkeitsmatrix\n",
    "\n",
    "Mit den oben ermittelten Ableitungen der Ansatzfunktionen und der Determinante der inversen Jacobimatrix des jeweiligen Elements kann nun das Integral zur Berechnung der Einträge der Elementsteifigkeitsmatrix am Einheitselement mit Definitionsgebiet $\\Omega$ mit\n",
    "$$\n",
    "    A^{K,d;K,e} = \\int\\limits_\\Omega N^{K,d}_{,i}(\\mathbf{x})N^{K,e}_{,i}(\\mathbf{x})\\det(\\mathbf{J}^K)^{-1}\\,\\mathrm{d}\\Omega\n",
    "$$\n",
    "angegeben werden."
   ]
  },
  {
   "cell_type": "code",
   "execution_count": 16,
   "id": "d31e33c1-3220-4f14-b9ad-329a9385c865",
   "metadata": {},
   "outputs": [],
   "source": [
    "AKdKe = {}\n",
    "\n",
    "for K in range(1,n_elem+1):\n",
    "\n",
    "    AKdKe[K] = sp.zeros(n_dof_loc,n_dof_loc)\n",
    "    for d in range(n_dof_loc):\n",
    "        for e in range(n_dof_loc):\n",
    "            scalar_prod = 0\n",
    "            for i in range(dim):\n",
    "                scalar_prod += dNKddxi[K][d,i]*dNKddxi[K][e,i]\n",
    "            AKdKe[K][d,e] = sp.integrate(scalar_prod,(xi1,0,1),(xi2,0,1))*detJKm1[K]\n",
    "            \n",
    "if not supress_output: output(AKdKe, n_elem, r'A^{K,d;K,e}')"
   ]
  },
  {
   "cell_type": "markdown",
   "id": "7e84589b-27e3-43d4-8c06-6917cdf0cf37",
   "metadata": {},
   "source": [
    "### Elementkraftvektor\n",
    "\n",
    "Analog lässt sich mit der Quellfunktion $f(\\mathbf{x})$, den Ansatzfunktionen und der Determinante der inversen Jacobimatrix des jeweiligen Elements das Integral zur Berechnung der Einträge des Elementkraftvektors mit\n",
    "$$\n",
    "    F^{K,d} = \\int\\limits_\\Omega f((T^K)^{-1}(\\mathbf{\\xi})) N^{d}(\\mathbf{\\xi})\\det(\\mathbf{J}^K)^{-1}\\,\\mathrm{d}\\Omega+\\int\\limits_\\Gamma\\overline{g}((T^F_\\Gamma)^{-1}(\\mathbf{\\xi}))N^{K,d}(\\mathbf{\\xi})\\,\\mathrm{d}\\Gamma\n",
    "$$\n",
    "angegeben werden.\n",
    "\n",
    "Zuvor werden die in der Angabe angegebenen skalaren Funktionen, die Quellfunktion $f(\\mathbf{x})$ und die Funktion $\\overline{g}(\\mathbf{x})$ entlang des Neumann-Randes, auf das Einheitselement transformiert, d.h. $f((T^K)^{-1}(\\mathbf{\\xi}))$ und $\\overline{g}((T^K)^{-1}(\\mathbf{\\xi}))$."
   ]
  },
  {
   "cell_type": "code",
   "execution_count": 17,
   "id": "8f74abd9-812e-437c-8d16-3357538ec143",
   "metadata": {},
   "outputs": [],
   "source": [
    "f = {}\n",
    "\n",
    "for K in range(1,n_elem+1):\n",
    "    if isinstance(f_symb, int) or isinstance(f_symb, float):\n",
    "        f[K] = f_symb\n",
    "    else:\n",
    "        f[K] = f_symb.subs({x1:TKm1[K][0],x2:TKm1[K][1]}).expand()\n",
    "\n",
    "if not supress_output: output(f, n_elem, r'f((T^{K})^{-1}(\\mathbf{x}))')"
   ]
  },
  {
   "cell_type": "code",
   "execution_count": 18,
   "id": "96a4a25b-2bf0-4100-8f88-a63f1c89b6fe",
   "metadata": {},
   "outputs": [],
   "source": [
    "g = {}\n",
    "\n",
    "if only_dirichlet:\n",
    "    for F in range(1,n_elem_y+1):\n",
    "        g[F] = 0\n",
    "elif not only_dirichlet:\n",
    "    for F in range(1,n_elem_y+1):\n",
    "        if isinstance(g_symb, int) or isinstance(g_symb, float):\n",
    "            g[F] = g_symb\n",
    "        else:\n",
    "            g[F] = g_symb.subs(x2,TFm1_Gamma[F]).expand()\n",
    "\n",
    "if not supress_output: output(g, n_elem_y, r'g((T^{F}_\\Gamma)^{-1}(x_2))', s='F')"
   ]
  },
  {
   "cell_type": "markdown",
   "id": "7c98453d-b27a-4d67-9b6a-2563e4a6055c",
   "metadata": {},
   "source": [
    "Mit den transformierten Funktionen $f((T^K)^{-1}(\\mathbf{\\xi}))$ und $\\overline{g}((T^K)^{-1}(\\mathbf{\\xi}))$ lassen sich somit die Elementkraftvektoreinträge berechnen."
   ]
  },
  {
   "cell_type": "code",
   "execution_count": 19,
   "id": "fdf0a199-2be2-4240-a813-a629e4cb3709",
   "metadata": {},
   "outputs": [],
   "source": [
    "FKd = {}\n",
    "\n",
    "for K in range(1,n_elem+1):\n",
    "    FKd[K] = sp.zeros(n_dof_loc,1)\n",
    "\n",
    "    if K % n_elem_x == 0:\n",
    "        \n",
    "        F = int(K/n_elem_x)\n",
    "        neu_dof = F_dof[F]\n",
    "   \n",
    "        for d in range(n_dof_loc):\n",
    "            \n",
    "            FKd[K][d] = sp.integrate(f[K]*N[d],(xi1,0,1),(xi2,0,1))*detJKm1[K] + \\\n",
    "                        sp.integrate(g[F]*N[d],(xi2,0,1))*JFm1_Gamma[F]\n",
    "            FKd[K][d] = FKd[K][d].subs(xi1,B_value)\n",
    "            \n",
    "    else:\n",
    "    \n",
    "        for d in range(n_dof_loc):\n",
    "       \n",
    "            FKd[K][d] = sp.integrate(f[K]*N[d],(xi1,0,1),(xi2,0,1))*detJKm1[K]\n",
    "\n",
    "if not supress_output: output(FKd, n_elem, r'F^{K,d}')"
   ]
  },
  {
   "cell_type": "markdown",
   "id": "587c6962-2991-4e59-97c3-6069a145ce97",
   "metadata": {},
   "source": [
    "## Assemblierung\n",
    "\n",
    "Nachdem oben nun alle elementbezogenen Größen ermittelt wurden müssen diese zum Erhalt einer **global stetigen Lösung** assembliert werden. Der erste Schritt besteht darin, die Stetigkeitsmatrix zu ermitteln."
   ]
  },
  {
   "cell_type": "markdown",
   "id": "14ceb46c-be79-4c52-8a2c-f75fbc7feee2",
   "metadata": {},
   "source": [
    "### Stetigkeitsmatrix\n",
    "\n",
    "Mit der Stetigkeitsmatrix $C^{IK,d}$ lassen sich die Elementansatzfunktionen $N^{K,d}(\\mathbf{x})$, welche nur am Element $K$ selbst definiert sind, zu den global stetigen Ansatzfunktionen $u^{I}(\\mathbf{x})$ zusammensetzen. Diesen Vorgang nennt man **Assemblierung**.\n",
    "\n",
    "Die Steteigkeitsmatrix $C^{IK,d}$ ergibt sich dabei wie in der Übung besprochen zu"
   ]
  },
  {
   "cell_type": "code",
   "execution_count": 20,
   "id": "cf8da426-a370-46c1-a9f1-9cd5f1c596fc",
   "metadata": {
    "scrolled": true
   },
   "outputs": [],
   "source": [
    "# Konstruktion der Stetigkeitsmatrix\n",
    "dof_elems = {}\n",
    "\n",
    "for dof in range(n_dof):\n",
    "\n",
    "    x_dof = x[dof,0]\n",
    "    y_dof = x[dof,1]\n",
    "    dof_elems[dof+1] = []\n",
    "\n",
    "    for K, coords in xK.items():\n",
    "\n",
    "        for d in range(coords.rows):\n",
    "            \n",
    "            xd = coords.row(d)[0]\n",
    "            yd = coords.row(d)[1]\n",
    "\n",
    "            if xd.equals(x_dof) and yd.equals(y_dof):\n",
    "                dof_elems[dof+1].append((K,d+1))\n",
    "\n",
    "CIKd = sp.zeros(n_dof, n_elem*n_dof_loc)\n",
    "\n",
    "for I in dof_elems:\n",
    "    for Kd in dof_elems[I]:\n",
    "        i = I-1\n",
    "        j = n_dof_loc*(Kd[0]-1)+Kd[1]-1\n",
    "\n",
    "        CIKd[i,j] = 1\n",
    "\n",
    "if not supress_output: output_sp(CIKd, r'[C^{IK,d}]')"
   ]
  },
  {
   "cell_type": "markdown",
   "id": "ba4aa342-80d4-4b50-8c8c-b2db868c32d6",
   "metadata": {},
   "source": [
    "### Globale Ansatzfunktionen\n",
    "\n",
    "Mit der Stetigkeitsmatrix erhätl man schließlich die global stetigen Ansatzfunktionen gemäß\n",
    "$$\n",
    "    u^I(\\mathbf{x}) = C^{IK,d}\\,N^{K,d}(\\mathbf{x})\n",
    "$$"
   ]
  },
  {
   "cell_type": "code",
   "execution_count": 21,
   "id": "db36eb80-ac24-4f18-9c40-3b1bf2c96318",
   "metadata": {},
   "outputs": [],
   "source": [
    "if not supress_output: display(Math(rf'{sp.latex(u_I_symb)}={sp.latex(CIKd)}\\cdot {sp.latex(NK_symb)}'))"
   ]
  },
  {
   "cell_type": "markdown",
   "id": "4a0620bf-5072-4af2-86a3-bae94ec7b2d8",
   "metadata": {},
   "source": [
    "### Globale Steifigkeitsmatrix\n",
    "\n",
    "Die globale Steifigkeitsmatrix $[A^{IJ}]$ lässt sich gemäß\n",
    "$$\n",
    "    A^{IJ}=C^{IK,d}A^{K,d;K,e}_{\\mathrm{tot}}C^{JL,e}\\quad\\Leftrightarrow\\quad\\mathbf{A}=\\mathbf{C}\\cdot\\mathbf{A}_{\\mathrm{tot}}\\cdot\\mathbf{C}^\\top\n",
    "$$\n",
    "berechnen, wobei sich die nicht-assemblierte Steifigkeitsmatrix $[A^{K,d;K,e}_{\\mathrm{tot}}]$ durch die Elementsteifigkeitsmatrizen $[A^{K,d;K,e}]$ entlang der Diagonalen ergibt, d.h."
   ]
  },
  {
   "cell_type": "code",
   "execution_count": 22,
   "id": "f97aec34-4fe2-4612-a3bb-39d424eaa7a9",
   "metadata": {},
   "outputs": [],
   "source": [
    "null = sp.zeros(n_dof_loc, n_dof_loc)\n",
    "A_tot = [[None for _ in range(n_elem)] for _ in range(n_elem)]\n",
    "\n",
    "for i in range(n_elem):\n",
    "    for j in range(n_elem):\n",
    "        if i == j:\n",
    "            A_tot[i][j] = AKdKe[i+1]\n",
    "        else:\n",
    "            A_tot[i][j] = null\n",
    "\n",
    "A_tot = sp.Matrix(A_tot)\n",
    "\n",
    "if not supress_output: output_sp(A_tot, r'[A^{K,d;K,e}_{\\mathrm{tot}}]')"
   ]
  },
  {
   "cell_type": "markdown",
   "id": "fe24cba2-dccd-4a6d-8fe9-e3eba2338ef5",
   "metadata": {},
   "source": [
    "Somit erhält man für die globale Steifigkeitsmatrix $[A^{IJ}]$"
   ]
  },
  {
   "cell_type": "code",
   "execution_count": 23,
   "id": "13704210-3b67-4f0d-90e2-f017ccaf93c6",
   "metadata": {},
   "outputs": [],
   "source": [
    "A = CIKd*A_tot*CIKd.T\n",
    "\n",
    "if not supress_output: output_sp(A, r'[A^{IJ}]')"
   ]
  },
  {
   "cell_type": "markdown",
   "id": "7eae152f-253a-4da3-a3c3-6bdcc4bd5bc7",
   "metadata": {},
   "source": [
    "### Globaler Kraftvektor\n",
    "\n",
    "Der globale Kraftvektor $[F^{I}]$ lässt sich gemäß\n",
    "$$\n",
    "    F^{I}=C^{IK,d}F^{K,d}\\quad\\Leftrightarrow\\quad\\mathbf{F}=\\mathbf{C}\\cdot\\mathbf{F}_{\\mathrm{tot}}\n",
    "$$\n",
    "berechnen, wobei sich der nicht-assemblierte Kraftvektor $[F^{K,d}_{\\mathrm{tot}}]$ durch vertikale Stapelung der Elementkraftvektoren $[F^{K,d}]$ ergibt, d.h."
   ]
  },
  {
   "cell_type": "code",
   "execution_count": 24,
   "id": "c6aa9422-1633-4761-9b4e-55517d20af67",
   "metadata": {},
   "outputs": [],
   "source": [
    "F_tot = []\n",
    "\n",
    "for i in range(n_elem):\n",
    "    F_tot.append(FKd[i+1].T)\n",
    "F_tot = sp.Matrix(sp.BlockMatrix(F_tot)).T\n",
    "\n",
    "if not supress_output: output_sp(F_tot, r'[F^{K,d}_{\\mathrm{tot}}]')"
   ]
  },
  {
   "cell_type": "markdown",
   "id": "e3f325f8-72b6-4e2b-bf8e-e17d295a174c",
   "metadata": {},
   "source": [
    "Somit erhält man für den globalen Kraftvektor $[F^{I}]$"
   ]
  },
  {
   "cell_type": "code",
   "execution_count": 25,
   "id": "8c7d8754-b1a2-44c3-808a-fd1a7ddd3081",
   "metadata": {},
   "outputs": [],
   "source": [
    "F = CIKd*F_tot\n",
    "\n",
    "if not supress_output: output_sp(F, r'[F^I]')"
   ]
  },
  {
   "cell_type": "markdown",
   "id": "785a4544-4491-49d1-afba-4787f200f3a3",
   "metadata": {},
   "source": [
    "### Lineares Gleichungssystem ohne Berücksichtigung der Dirichlet-Randbedingungen\n",
    "\n",
    "Das nach der Assemblierung entstehende lineare Gleichungssystem **ohne** Berücksichtigung der Dirichlet-Randbedingungen\n",
    "$$\n",
    "    A^{IJ}\\hat{u}^I=F^{I}\\quad\\Leftrightarrow\\quad\\mathbf{A}\\cdot\\hat{\\mathbf{u}}=\\mathbf{F}\n",
    "$$\n",
    "zur Ermittlung der gesuchten Freiheitsgrade and den Knotenpunkten $\\hat{u}^I$ schreibt sich als"
   ]
  },
  {
   "cell_type": "code",
   "execution_count": 26,
   "id": "eb2ad167-f310-42de-92c7-030d7b2c4761",
   "metadata": {},
   "outputs": [],
   "source": [
    "if not supress_output: display(Math(rf'{sp.latex(A)}\\cdot{sp.latex(u_hat_symb)}={sp.latex(F)}'))"
   ]
  },
  {
   "cell_type": "markdown",
   "id": "73968cfc-e398-466a-b0cc-bd441bfbc88f",
   "metadata": {},
   "source": [
    "### Lineares Gleichungssystem mit Berücksichtigung der Dirichlet-Randbedingungen\n",
    "\n",
    "Nun müssen noch die Dirichlet-Randbedingungen in das obige Gleichungssystem eingearbeitet werden. Gemäß der Angabe gilt dort $u(\\mathbf{x})=0,\\mathbf{x}\\in\\partial\\hat{\\Omega}_D$. Berücksichtigt man dies, ergibt sich das folgende zu lösende Gleichungssystem"
   ]
  },
  {
   "cell_type": "code",
   "execution_count": 27,
   "id": "68f6f2dd-ecc7-4a12-8b3b-cdf9bd69f332",
   "metadata": {},
   "outputs": [],
   "source": [
    "A_dir = []\n",
    "F_dir = []\n",
    "\n",
    "# Bestimme Freiheitsgrade welche zum Dirichlet-Rand gehören\n",
    "dir_bottom = np.arange(1, (n_elem_x+1)+1, 1)\n",
    "dir_left = np.arange((n_elem_x+1)+1,(n_elem_x+1)*n_elem_y+2, (n_elem_x+1))\n",
    "dir_top = np.arange((n_elem_x+1)*n_elem_y+2, (n_elem_x+1)*(n_elem_y+1)+1)\n",
    "\n",
    "if only_dirichlet:\n",
    "    dir_right = np.arange((n_elem_x+1),(n_elem_x+1)*(n_elem_y+1)+1,n_elem_x+1)[1:-1]\n",
    "    dir_dofs = np.concatenate((dir_bottom, dir_left, dir_top, dir_right), axis=0)\n",
    "\n",
    "elif not only_dirichlet:\n",
    "    dir_dofs = np.concatenate((dir_bottom, dir_left, dir_top), axis=0)\n",
    "\n",
    "# Ersetze alle Zeilen mit Verträglichkeit durch die Dirichlet Randbedingungen\n",
    "for i in range(n_dof):\n",
    "    if i+1 in dir_dofs:\n",
    "        row = [0 for _ in range(n_dof)]\n",
    "        row[i] = 1\n",
    "        A_dir.append(row)\n",
    "        F_dir.append(u0_value)\n",
    "    else:\n",
    "        A_dir.append(A[i,:])\n",
    "        F_dir.append(F[i,0])\n",
    "\n",
    "A_dir = sp.Matrix(A_dir)\n",
    "F_dir = sp.Matrix(F_dir)"
   ]
  },
  {
   "cell_type": "code",
   "execution_count": 28,
   "id": "613e6e4c-7051-4e70-bf46-5c89acbd3507",
   "metadata": {},
   "outputs": [],
   "source": [
    "if not supress_output: display(Math(rf'{sp.latex(A_dir)}\\cdot{sp.latex(u_hat_symb)}={sp.latex(F_dir)}'))"
   ]
  },
  {
   "cell_type": "markdown",
   "id": "85cee8c2-49d3-4ecd-85f9-2550198470f0",
   "metadata": {},
   "source": [
    "## Lösung\n",
    "\n",
    "Löst man nun das obige Gleichungssystem mit Berücksichtigung der Dirichlet-Randbedingungen, so erhält man die gesuchten Knotenpunktwerte $\\hat{u}_I$. Die approximierte Lösungsfunktion ergibt sich damit schließlich mit den insgesamt $N$ Freiheitsgraden als Linearkombination der ermittelten Knotenpunktwerte $\\hat{u}_I$ mit den zugehörigen globalen, stetigen Ansatzfunktionen $u^I(\\mathbf{x})$ als\n",
    "$$\n",
    "    u(\\mathbf{x})\\approx u^h(\\mathbf{x})=\\sum_{I=1}^{N}\\hat{u}_I\\,u^I(\\mathbf{x})\n",
    "$$\n",
    "Diese approximierte Lösungsfunktion $u^h(\\mathbf{x})$ sein nun unten dargestellt."
   ]
  },
  {
   "cell_type": "code",
   "execution_count": 29,
   "id": "232c14ff-f39c-4955-87a2-efd558d6d75a",
   "metadata": {
    "editable": true,
    "slideshow": {
     "slide_type": ""
    },
    "tags": []
   },
   "outputs": [],
   "source": [
    "eq = A_dir*u_hat_symb - F_dir\n",
    "\n",
    "u_hat = sp.solve(eq)\n",
    "u_hat_sorted = dict(sorted(u_hat.items(), key=lambda item: int(item[0].name.split('_')[1])))\n",
    "\n",
    "u_hat_num = np.array([v for v in u_hat_sorted.values()]).astype(np.float64)"
   ]
  },
  {
   "cell_type": "code",
   "execution_count": 30,
   "id": "d0b150a7-22cd-453d-888c-bb89c6fb22a7",
   "metadata": {
    "editable": true,
    "slideshow": {
     "slide_type": ""
    },
    "tags": []
   },
   "outputs": [
    {
     "data": {
      "application/vnd.jupyter.widget-view+json": {
       "model_id": "07e9f473a4c3427e89b0a96d782b023d",
       "version_major": 2,
       "version_minor": 0
      },
      "image/png": "[encoded data removed]",
      "text/html": [
       "\n",
       "            <div style=\"display: inline-block;\">\n",
       "                <div class=\"jupyter-widgets widget-label\" style=\"text-align: center;\">\n",
       "                    Figure\n",
       "                </div>\n",
       "                <img src='data:image/png;base64,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' width=640.0/>\n",
       "            </div>\n",
       "        "
      ],
      "text/plain": [
       "Canvas(toolbar=Toolbar(toolitems=[('Home', 'Reset original view', 'home', 'home'), ('Back', 'Back to previous …"
      ]
     },
     "metadata": {},
     "output_type": "display_data"
    }
   ],
   "source": [
    "xx = np.linspace(0,B_value,n_elem_x+1)\n",
    "yy = np.linspace(0,H_value,n_elem_y+1)\n",
    "zz = u_hat_num\n",
    "\n",
    "X, Y = np.meshgrid(xx,yy)\n",
    "Z = zz.reshape(n_elem_y+1, n_elem_x+1)\n",
    "\n",
    "fig = plt.figure()\n",
    "ax = fig.add_subplot(111, projection='3d')\n",
    "ax.plot_surface(X, Y, Z, cmap='viridis', edgecolor='k')\n",
    "ax.set_xlabel('$x_1$')\n",
    "ax.set_ylabel('$x_2$')\n",
    "ax.set_zlabel('$u(x_1, x_2)$')\n",
    "#ax.set_zticks([])\n",
    "world_limits = ax.get_w_lims()\n",
    "H = 0.6*np.max([B_value, H_value])\n",
    "ax.set_box_aspect((world_limits[1]-world_limits[0],world_limits[3]-world_limits[2],H))\n",
    "plt.show()"
   ]
  },
  {
   "cell_type": "code",
   "execution_count": null,
   "id": "d081db85-88a0-4fad-97ae-770eb83696b4",
   "metadata": {},
   "outputs": [],
   "source": []
  }
 ],
 "metadata": {
  "kernelspec": {
   "display_name": "Python 3 (ipykernel)",
   "language": "python",
   "name": "python3"
  },
  "language_info": {
   "codemirror_mode": {
    "name": "ipython",
    "version": 3
   },
   "file_extension": ".py",
   "mimetype": "text/x-python",
   "name": "python",
   "nbconvert_exporter": "python",
   "pygments_lexer": "ipython3",
   "version": "3.12.3"
  }
 },
 "nbformat": 4,
 "nbformat_minor": 5
}
