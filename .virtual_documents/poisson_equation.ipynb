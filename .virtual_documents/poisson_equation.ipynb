%matplotlib ipympl

import sympy as sp
import matplotlib.tri as tri
import matplotlib.pyplot as plt
plt.rcParams['text.usetex'] = True
plt.rcParams['font.size'] = 10
plt.rcParams['savefig.dpi'] = 500
plt.rcParams['savefig.bbox'] = 'tight'
import numpy as np
from IPython.display import Math, display

def output(dictionary, n, lhs, s='K'):
    for i in range(1,n+1):
        i1_string = rf'{s}={i}:\qquad '
        i2_string = rf'{lhs}={sp.latex(dictionary[i])}'.replace(s,str(i))
        display(Math(i1_string+i2_string))

def output_sp(element, lhs):
    display(Math(rf'{lhs}={sp.latex(element)}'))

xi1, xi2, B, H, x1, x2 = sp.symbols('xi_1 xi_2 B H x_1 x_2')





n_elem_x = 2              # Anzahl der Elemente in x_1-Richtung
n_elem_y = 2              # Anzahl der Elemente in x_2-Richtung
B_value = 3               # Abmessung B
H_value = 2               # Abmessung H
u0_value = 0              # Konstanter Funktionswert am Dirichlet-Rand

f_symb = x1**2+x2**2      # Quellfunktion f(x1, x2)
g_symb = x2               # Funktion am Neumann-Rand g(x2)

supress_output = False    # Die Ausgabe der jeweiligen Zellen unterdrücken (True, False)





only_dirichlet = False

order = 'bilinear' # Ordnung der Elemente
dim = 2 # Dimension
n_elem = int(n_elem_x*n_elem_y) # Anazhl der Elemente
n_dof = int((n_elem_x+1)*(n_elem_y+1)) # Anzahl der globalen Freiheitsgrade
n_dof_loc = 4 if order == 'bilinear' else None # Anzahl der Elementfreiheitsgrade

# Symbolische Variablen der globalen Freiheitsgrade
u_hat_symb = sp.symbols([rf'\hat{{u}}_{i}' for i in range(1,n_dof+1)])
u_hat_symb = sp.Matrix(u_hat_symb)

# Symbolische Variablen der globalen Ansatzfunktionen
u_I_symb = sp.symbols([rf'u^{{{i}}}(\mathbf{{x}})' for i in range(1,n_dof+1)])
u_I_symb = sp.Matrix(u_I_symb)

# Symbolische Variablen der lokalen Freiheitsgrade
NK_symb = sp.symbols([rf'N^{{{K}\,{d}}}(\mathbf{{x}})' for K in range(1,n_elem+1) for d in range(1,n_dof_loc+1)])
NK_symb = sp.Matrix(NK_symb)



# Quellfunktion f(x1,x2)
xf = np.linspace(0, B_value, 100)
yf = np.linspace(0, H_value, 100)
XF,YF = np.meshgrid(xf, yf)

f_numpy = sp.lambdify((x1, x2),f_symb)
ZF = f_numpy(XF, YF) if not isinstance(f_symb, int) else np.ones(XF.shape)*f_numpy(XF,YF)

# Funktion g(x2)
xg = np.ones((100,))*B_value
yg = yf

g_numpy = sp.lambdify((x2), g_symb)
ZG = g_numpy(yg)#yf*(g_numpy(H_value)-g_numpy(0))

fig = plt.figure(figsize=(10,5))
ax1 = fig.add_subplot(121, projection='3d')
ax1.plot_surface(XF, YF, ZF, lw=0.5, rstride=10, cstride=10,
                alpha=0.3)
ax1.contour(XF, YF, ZF, levels=20, cmap='coolwarm')
world_limits = ax1.get_w_lims()
H = 0.6*np.max([B_value, H_value])
ax1.set_box_aspect((world_limits[1]-world_limits[0],world_limits[3]-world_limits[2],H))
ax1.set_xlim(0,B_value)
ax1.set_ylim(0,H_value)
ax1.set_xlabel('$x_1$')
ax1.set_ylabel('$x_2$')
ax1.set_zlabel('$f(x_1,x_2)$')
ax1.set_title('Quellfunktion $f(\mathbf{x})$')

ax2 = fig.add_subplot(122, projection='3d')
ax2.plot(xg, yg, ZG, color='g')
ax2.set_box_aspect((world_limits[1]-world_limits[0],world_limits[3]-world_limits[2],H))
ax2.set_xlim(0,B_value)
ax2.set_ylim(0,H_value)
ax2.set_xlabel('$x_1$')
ax2.set_ylabel('$x_2$')
ax2.set_zlabel('$\overline{g}(x_2)$')
ax2.set_title('Funktion am Neumann-Rand $\overline{g}(x_2)$')







# Koordinaten der Knotenpunkte
x = sp.Matrix([[i*B_value/n_elem_x, j*H_value/n_elem_y] for j in range(n_elem_y+1) for i in range(n_elem_x+1)])

# Elemente mit Freiheitsgrade
K_dof = {}

# Elemente mit Knotenpunkten
xK = {}
for j in range(n_elem_y):
    for i in range(n_elem_x):
        
        K = j*n_elem_x+i+1

        # Fuege globale Freiheitsgrade zu den Elementen hinzu
        d1 = j*(n_elem_x+1)+i+1      # links unten
        d2 = d1 + 1                  # rechts unten
        d3 = d1 + (n_elem_x+1) + 1   # rechts oben
        d4 = d1 + (n_elem_x+1)       # links oben

        K_dof[K] = [d1, d2, d3, d4]
        
        # Ermittle Knotenpunktkoordinaten der Elemente
        xK[K] = sp.zeros(n_dof_loc, dim)
        
        xK[K][0,0] = i*sp.Rational(B_value,n_elem_x)
        xK[K][1,0] = (i+1)*sp.Rational(B_value,n_elem_x)
        xK[K][2,0] = (i+1)*sp.Rational(B_value,n_elem_x)
        xK[K][3,0] = i*sp.Rational(B_value,n_elem_x)

        xK[K][0,1] = j*sp.Rational(H_value,n_elem_y)
        xK[K][1,1] = j*sp.Rational(H_value,n_elem_y)
        xK[K][2,1] = (j+1)*sp.Rational(H_value,n_elem_y)
        xK[K][3,1] = (j+1)*sp.Rational(H_value,n_elem_y)
    
if not supress_output: output(xK, n_elem, r'\mathbf{x}^{K,d}')








neu_right_T = np.arange((n_elem_x+1),(n_elem_x+1)*(n_elem_y+1)+1,n_elem_x+1)
F_dof = {}

TFm1_Gamma = {}
TF_Gamma = {}
for F in range(1, n_elem_y+1):
    
    dof0 = neu_right_T[F-1]
    dof1 = neu_right_T[F-1]+n_elem_y

    if F == 1:
        F_dof[F] = [dof1]
    elif F == n_elem_y:
        F_dof[F] = [dof0]
    else:
        F_dof[F] = [dof0, dof1]
    
    x20 = x[dof0-1,1]
    x21 = x[dof1-1,1]
    
    TFm1_Gamma[F] = x20+(x21-x20)*xi2
    TF_Gamma[F] = (x2-x20)/(x21-x20)

neu_right = neu_right_T[1:-1]

if not supress_output: output(TFm1_Gamma, n_elem_y, r'(T^{F}_\Gamma)^{-1}(\xi_2)', s='F')





if not supress_output: output(TF_Gamma, n_elem_y, r'T^{F}_\Gamma(\xi_2)', s='F')





JFm1_Gamma = {}

for F in range(1, n_elem_y+1):
    JFm1_Gamma[F] = sp.diff(TFm1_Gamma[F],xi2)

if not supress_output: output(JFm1_Gamma, n_elem_y, r'(J^{F}_\Gamma)^{-1}(\xi_2)=\det (J^{F}_\Gamma)^{-1}', s='F')





JF_Gamma = {}

for F in range(1, n_elem_y+1):
    JF_Gamma[F] = sp.diff(TF_Gamma[F],x2)

if not supress_output: output(JF_Gamma, n_elem_y, r'J^{F}(\xi_2)', s='F')








N = sp.Matrix([(1-xi1)*(1-xi2),
               xi1*(1-xi2),
               xi1*xi2,
               xi2*(1-xi1)])
if not supress_output: output_sp(N, r'N^d(\mathbf{\xi})')





TKm1 = {}

for K in range(1,n_elem+1):
    TKm1[K] = sp.zeros(dim,1)
    for d in range(n_dof_loc):
        TKm1[K] += N[d]*xK[K][d,:].T
    TKm1[K].simplify()

if not supress_output: output(TKm1, n_elem, r'(T^{K})^{-1}(\mathbf{\xi})')





TK = {}

for K in range(1,n_elem+1):
    TKsol = sp.solve([TKm1[K][0]-x1,TKm1[K][1]-x2],(xi1, xi2))
    TK[K] = sp.Matrix([TKsol[xi1],TKsol[xi2]])

if not supress_output: output(TK, n_elem, r'T^{K}(\mathbf{x})')





JKm1 = {}

for K in range(1,n_elem+1):
    JKm1[K] = TKm1[K].jacobian([xi1, xi2])

if not supress_output: output(JKm1, n_elem, r'(J^{K})^{-1}')





detJKm1 = {}

for K in range(1,n_elem+1):
    detJKm1[K] = JKm1[K].det()

if not supress_output: output(detJKm1, n_elem, r'\det (J^{K})^{-1}')





JK = {}

for K in range(1,n_elem+1):
    JK[K] = TK[K].jacobian([x1, x2])

if not supress_output: output(JK, n_elem, r'J^{K}')





dNddxij = N.jacobian([xi1, xi2])

dNKddxi = {}

for K in range(1,n_elem+1):
    dNKddxi[K] = dNddxij*JK[K]

if not supress_output: output(dNKddxi, n_elem, r'\frac{\partial N^{K,d}}{\partial x_i}')





AKdKe = {}

for K in range(1,n_elem+1):

    AKdKe[K] = sp.zeros(n_dof_loc,n_dof_loc)
    for d in range(n_dof_loc):
        for e in range(n_dof_loc):
            scalar_prod = 0
            for i in range(dim):
                scalar_prod += dNKddxi[K][d,i]*dNKddxi[K][e,i]
            AKdKe[K][d,e] = sp.integrate(scalar_prod,(xi1,0,1),(xi2,0,1))*detJKm1[K]
            
if not supress_output: output(AKdKe, n_elem, r'A^{K,d;K,e}')





f = {}

for K in range(1,n_elem+1):
    if isinstance(f_symb, int) or isinstance(f_symb, float):
        f[K] = f_symb
    else:
        f[K] = f_symb.subs({x1:TKm1[K][0],x2:TKm1[K][1]}).expand()

if not supress_output: output(f, n_elem, r'f((T^{K})^{-1}(\mathbf{x}))')


g = {}

if only_dirichlet:
    for F in range(1,n_elem_y+1):
        g[F] = 0
elif not only_dirichlet:
    for F in range(1,n_elem_y+1):
        if isinstance(g_symb, int) or isinstance(g_symb, float):
            g[F] = g_symb
        else:
            g[F] = g_symb.subs(x2,TFm1_Gamma[F]).expand()

if not supress_output: output(g, n_elem_y, r'g((T^{F}_\Gamma)^{-1}(x_2))', s='F')





FKd = {}

for K in range(1,n_elem+1):
    FKd[K] = sp.zeros(n_dof_loc,1)

    if K % n_elem_x == 0:
        
        F = int(K/n_elem_x)
        neu_dof = F_dof[F]
   
        for d in range(n_dof_loc):
            
            FKd[K][d] = sp.integrate(f[K]*N[d],(xi1,0,1),(xi2,0,1))*detJKm1[K] + \
                        sp.integrate(g[F]*N[d],(xi2,0,1))*JFm1_Gamma[F]
            FKd[K][d] = FKd[K][d].subs(xi1,B_value)
            
    else:
    
        for d in range(n_dof_loc):
       
            FKd[K][d] = sp.integrate(f[K]*N[d],(xi1,0,1),(xi2,0,1))*detJKm1[K]

if not supress_output: output(FKd, n_elem, r'F^{K,d}')








# Konstruktion der Stetigkeitsmatrix
dof_elems = {}

for dof in range(n_dof):

    x_dof = x[dof,0]
    y_dof = x[dof,1]
    dof_elems[dof+1] = []

    for K, coords in xK.items():

        for d in range(coords.rows):
            
            xd = coords.row(d)[0]
            yd = coords.row(d)[1]

            if xd.equals(x_dof) and yd.equals(y_dof):
                dof_elems[dof+1].append((K,d+1))

CIKd = sp.zeros(n_dof, n_elem*n_dof_loc)

for I in dof_elems:
    for Kd in dof_elems[I]:
        i = I-1
        j = n_dof_loc*(Kd[0]-1)+Kd[1]-1

        CIKd[i,j] = 1

if not supress_output: output_sp(CIKd, r'[C^{IK,d}]')





if not supress_output: display(Math(rf'{sp.latex(u_I_symb)}={sp.latex(CIKd)}\cdot {sp.latex(NK_symb)}'))





null = sp.zeros(n_dof_loc, n_dof_loc)
A_tot = [[None for _ in range(n_elem)] for _ in range(n_elem)]

for i in range(n_elem):
    for j in range(n_elem):
        if i == j:
            A_tot[i][j] = AKdKe[i+1]
        else:
            A_tot[i][j] = null

A_tot = sp.Matrix(A_tot)

if not supress_output: output_sp(A_tot, r'[A^{K,d;K,e}_{\mathrm{tot}}]')





A = CIKd*A_tot*CIKd.T

if not supress_output: output_sp(A, r'[A^{IJ}]')





F_tot = []

for i in range(n_elem):
    F_tot.append(FKd[i+1].T)
F_tot = sp.Matrix(sp.BlockMatrix(F_tot)).T

if not supress_output: output_sp(F_tot, r'[F^{K,d}_{\mathrm{tot}}]')





F = CIKd*F_tot

if not supress_output: output_sp(F, r'[F^I]')





if not supress_output: display(Math(rf'{sp.latex(A)}\cdot{sp.latex(u_hat_symb)}={sp.latex(F)}'))





A_dir = []
F_dir = []

# Bestimme Freiheitsgrade welche zum Dirichlet-Rand gehören
dir_bottom = np.arange(1, (n_elem_x+1)+1, 1)
dir_left = np.arange((n_elem_x+1)+1,(n_elem_x+1)*n_elem_y+2, (n_elem_x+1))
dir_top = np.arange((n_elem_x+1)*n_elem_y+2, (n_elem_x+1)*(n_elem_y+1)+1)

if only_dirichlet:
    dir_right = np.arange((n_elem_x+1),(n_elem_x+1)*(n_elem_y+1)+1,n_elem_x+1)[1:-1]
    dir_dofs = np.concatenate((dir_bottom, dir_left, dir_top, dir_right), axis=0)

elif not only_dirichlet:
    dir_dofs = np.concatenate((dir_bottom, dir_left, dir_top), axis=0)

# Ersetze alle Zeilen mit Verträglichkeit durch die Dirichlet Randbedingungen
for i in range(n_dof):
    if i+1 in dir_dofs:
        row = [0 for _ in range(n_dof)]
        row[i] = 1
        A_dir.append(row)
        F_dir.append(u0_value)
    else:
        A_dir.append(A[i,:])
        F_dir.append(F[i,0])

A_dir = sp.Matrix(A_dir)
F_dir = sp.Matrix(F_dir)


if not supress_output: display(Math(rf'{sp.latex(A_dir)}\cdot{sp.latex(u_hat_symb)}={sp.latex(F_dir)}'))





eq = A_dir*u_hat_symb - F_dir

u_hat = sp.solve(eq)
u_hat_sorted = dict(sorted(u_hat.items(), key=lambda item: int(item[0].name.split('_')[1])))

u_hat_num = np.array([v for v in u_hat_sorted.values()]).astype(np.float64)


xx = np.linspace(0,B_value,n_elem_x+1)
yy = np.linspace(0,H_value,n_elem_y+1)
zz = u_hat_num

X, Y = np.meshgrid(xx,yy)
Z = zz.reshape(n_elem_y+1, n_elem_x+1)

fig = plt.figure()
ax = fig.add_subplot(111, projection='3d')
ax.plot_surface(X, Y, Z, cmap='coolwarm', edgecolor='k', linewidth=0.5)
ax.set_xlabel('$x_1$')
ax.set_ylabel('$x_2$')
ax.set_zlabel('$u(x_1, x_2)$')
#ax.set_zticks([])
world_limits = ax.get_w_lims()
H = 0.6*np.max([B_value, H_value])
ax.set_box_aspect((world_limits[1]-world_limits[0],world_limits[3]-world_limits[2],H))
plt.show()



